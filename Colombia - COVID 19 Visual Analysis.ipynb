{
 "cells": [
  {
   "cell_type": "markdown",
   "metadata": {},
   "source": [
    "# Colombia - COVID 19 Visual Analysis"
   ]
  },
  {
   "cell_type": "markdown",
   "metadata": {},
   "source": [
    "## Introduction\n",
    "This notebook emphazises on giving some insights on the virus spread in Colombia. The information can be found [here](https://www.datos.gov.co/Salud-y-Protecci-n-Social/Casos-positivos-de-COVID-19-en-Colombia/gt2j-8ykr/data)"
   ]
  },
  {
   "cell_type": "markdown",
   "metadata": {},
   "source": [
    "### Data and Set up"
   ]
  },
  {
   "cell_type": "code",
   "execution_count": 1,
   "metadata": {},
   "outputs": [],
   "source": [
    "# Importing essential libraries\n",
    "import pandas as pd\n",
    "import numpy as np\n",
    "import matplotlib.pyplot as plt\n",
    "import seaborn as sns\n",
    "%matplotlib inline"
   ]
  },
  {
   "cell_type": "code",
   "execution_count": 2,
   "metadata": {},
   "outputs": [],
   "source": [
    "# Loading the dataset\n",
    "df = pd.read_csv(\"DATA/Casos_positivos_de_COVID-19_en_Colombia.csv\")"
   ]
  },
  {
   "cell_type": "code",
   "execution_count": 3,
   "metadata": {},
   "outputs": [
    {
     "data": {
      "text/html": [
       "<div>\n",
       "<style scoped>\n",
       "    .dataframe tbody tr th:only-of-type {\n",
       "        vertical-align: middle;\n",
       "    }\n",
       "\n",
       "    .dataframe tbody tr th {\n",
       "        vertical-align: top;\n",
       "    }\n",
       "\n",
       "    .dataframe thead th {\n",
       "        text-align: right;\n",
       "    }\n",
       "</style>\n",
       "<table border=\"1\" class=\"dataframe\">\n",
       "  <thead>\n",
       "    <tr style=\"text-align: right;\">\n",
       "      <th></th>\n",
       "      <th>ID de caso</th>\n",
       "      <th>Fecha de notificación</th>\n",
       "      <th>Código DIVIPOLA</th>\n",
       "      <th>Ciudad de ubicación</th>\n",
       "      <th>Departamento o Distrito</th>\n",
       "      <th>atención</th>\n",
       "      <th>Edad</th>\n",
       "      <th>Sexo</th>\n",
       "      <th>Tipo</th>\n",
       "      <th>Estado</th>\n",
       "      <th>...</th>\n",
       "      <th>FIS</th>\n",
       "      <th>Fecha de muerte</th>\n",
       "      <th>Fecha diagnostico</th>\n",
       "      <th>Fecha recuperado</th>\n",
       "      <th>fecha reporte web</th>\n",
       "      <th>Tipo recuperación</th>\n",
       "      <th>Codigo departamento</th>\n",
       "      <th>Codigo pais</th>\n",
       "      <th>Pertenencia etnica</th>\n",
       "      <th>Nombre grupo etnico</th>\n",
       "    </tr>\n",
       "  </thead>\n",
       "  <tbody>\n",
       "    <tr>\n",
       "      <th>0</th>\n",
       "      <td>1</td>\n",
       "      <td>2020-03-02T00:00:00.000</td>\n",
       "      <td>11001</td>\n",
       "      <td>Bogotá D.C.</td>\n",
       "      <td>Bogotá D.C.</td>\n",
       "      <td>Recuperado</td>\n",
       "      <td>19</td>\n",
       "      <td>F</td>\n",
       "      <td>Importado</td>\n",
       "      <td>Leve</td>\n",
       "      <td>...</td>\n",
       "      <td>2020-02-27T00:00:00.000</td>\n",
       "      <td>NaN</td>\n",
       "      <td>2020-03-06T00:00:00.000</td>\n",
       "      <td>2020-03-13T00:00:00.000</td>\n",
       "      <td>2020-03-06T00:00:00.000</td>\n",
       "      <td>PCR</td>\n",
       "      <td>11</td>\n",
       "      <td>380.0</td>\n",
       "      <td>Otro</td>\n",
       "      <td>NaN</td>\n",
       "    </tr>\n",
       "    <tr>\n",
       "      <th>1</th>\n",
       "      <td>2</td>\n",
       "      <td>2020-03-06T00:00:00.000</td>\n",
       "      <td>76111</td>\n",
       "      <td>Guadalajara de Buga</td>\n",
       "      <td>Valle del Cauca</td>\n",
       "      <td>Recuperado</td>\n",
       "      <td>34</td>\n",
       "      <td>M</td>\n",
       "      <td>Importado</td>\n",
       "      <td>Leve</td>\n",
       "      <td>...</td>\n",
       "      <td>2020-03-04T00:00:00.000</td>\n",
       "      <td>NaN</td>\n",
       "      <td>2020-03-09T00:00:00.000</td>\n",
       "      <td>2020-03-19T00:00:00.000</td>\n",
       "      <td>2020-03-09T00:00:00.000</td>\n",
       "      <td>PCR</td>\n",
       "      <td>76</td>\n",
       "      <td>724.0</td>\n",
       "      <td>Otro</td>\n",
       "      <td>NaN</td>\n",
       "    </tr>\n",
       "    <tr>\n",
       "      <th>2</th>\n",
       "      <td>3</td>\n",
       "      <td>2020-03-07T00:00:00.000</td>\n",
       "      <td>5001</td>\n",
       "      <td>Medellín</td>\n",
       "      <td>Antioquia</td>\n",
       "      <td>Recuperado</td>\n",
       "      <td>50</td>\n",
       "      <td>F</td>\n",
       "      <td>Importado</td>\n",
       "      <td>Leve</td>\n",
       "      <td>...</td>\n",
       "      <td>2020-02-29T00:00:00.000</td>\n",
       "      <td>NaN</td>\n",
       "      <td>2020-03-09T00:00:00.000</td>\n",
       "      <td>2020-03-15T00:00:00.000</td>\n",
       "      <td>2020-03-09T00:00:00.000</td>\n",
       "      <td>PCR</td>\n",
       "      <td>5</td>\n",
       "      <td>724.0</td>\n",
       "      <td>Otro</td>\n",
       "      <td>NaN</td>\n",
       "    </tr>\n",
       "    <tr>\n",
       "      <th>3</th>\n",
       "      <td>4</td>\n",
       "      <td>2020-03-09T00:00:00.000</td>\n",
       "      <td>5001</td>\n",
       "      <td>Medellín</td>\n",
       "      <td>Antioquia</td>\n",
       "      <td>Recuperado</td>\n",
       "      <td>55</td>\n",
       "      <td>M</td>\n",
       "      <td>Relacionado</td>\n",
       "      <td>Leve</td>\n",
       "      <td>...</td>\n",
       "      <td>2020-03-06T00:00:00.000</td>\n",
       "      <td>NaN</td>\n",
       "      <td>2020-03-11T00:00:00.000</td>\n",
       "      <td>2020-03-26T00:00:00.000</td>\n",
       "      <td>2020-03-11T00:00:00.000</td>\n",
       "      <td>PCR</td>\n",
       "      <td>5</td>\n",
       "      <td>NaN</td>\n",
       "      <td>Otro</td>\n",
       "      <td>NaN</td>\n",
       "    </tr>\n",
       "    <tr>\n",
       "      <th>4</th>\n",
       "      <td>5</td>\n",
       "      <td>2020-03-09T00:00:00.000</td>\n",
       "      <td>5001</td>\n",
       "      <td>Medellín</td>\n",
       "      <td>Antioquia</td>\n",
       "      <td>Recuperado</td>\n",
       "      <td>25</td>\n",
       "      <td>M</td>\n",
       "      <td>Relacionado</td>\n",
       "      <td>Leve</td>\n",
       "      <td>...</td>\n",
       "      <td>2020-03-08T00:00:00.000</td>\n",
       "      <td>NaN</td>\n",
       "      <td>2020-03-11T00:00:00.000</td>\n",
       "      <td>2020-03-23T00:00:00.000</td>\n",
       "      <td>2020-03-11T00:00:00.000</td>\n",
       "      <td>PCR</td>\n",
       "      <td>5</td>\n",
       "      <td>NaN</td>\n",
       "      <td>Otro</td>\n",
       "      <td>NaN</td>\n",
       "    </tr>\n",
       "  </tbody>\n",
       "</table>\n",
       "<p>5 rows × 21 columns</p>\n",
       "</div>"
      ],
      "text/plain": [
       "   ID de caso    Fecha de notificación  Código DIVIPOLA  Ciudad de ubicación  \\\n",
       "0           1  2020-03-02T00:00:00.000            11001          Bogotá D.C.   \n",
       "1           2  2020-03-06T00:00:00.000            76111  Guadalajara de Buga   \n",
       "2           3  2020-03-07T00:00:00.000             5001             Medellín   \n",
       "3           4  2020-03-09T00:00:00.000             5001             Medellín   \n",
       "4           5  2020-03-09T00:00:00.000             5001             Medellín   \n",
       "\n",
       "  Departamento o Distrito     atención  Edad Sexo         Tipo Estado  ...  \\\n",
       "0              Bogotá D.C.  Recuperado    19    F    Importado   Leve  ...   \n",
       "1          Valle del Cauca  Recuperado    34    M    Importado   Leve  ...   \n",
       "2                Antioquia  Recuperado    50    F    Importado   Leve  ...   \n",
       "3                Antioquia  Recuperado    55    M  Relacionado   Leve  ...   \n",
       "4                Antioquia  Recuperado    25    M  Relacionado   Leve  ...   \n",
       "\n",
       "                       FIS Fecha de muerte        Fecha diagnostico  \\\n",
       "0  2020-02-27T00:00:00.000             NaN  2020-03-06T00:00:00.000   \n",
       "1  2020-03-04T00:00:00.000             NaN  2020-03-09T00:00:00.000   \n",
       "2  2020-02-29T00:00:00.000             NaN  2020-03-09T00:00:00.000   \n",
       "3  2020-03-06T00:00:00.000             NaN  2020-03-11T00:00:00.000   \n",
       "4  2020-03-08T00:00:00.000             NaN  2020-03-11T00:00:00.000   \n",
       "\n",
       "          Fecha recuperado        fecha reporte web Tipo recuperación  \\\n",
       "0  2020-03-13T00:00:00.000  2020-03-06T00:00:00.000               PCR   \n",
       "1  2020-03-19T00:00:00.000  2020-03-09T00:00:00.000               PCR   \n",
       "2  2020-03-15T00:00:00.000  2020-03-09T00:00:00.000               PCR   \n",
       "3  2020-03-26T00:00:00.000  2020-03-11T00:00:00.000               PCR   \n",
       "4  2020-03-23T00:00:00.000  2020-03-11T00:00:00.000               PCR   \n",
       "\n",
       "  Codigo departamento  Codigo pais  Pertenencia etnica Nombre grupo etnico  \n",
       "0                  11        380.0                Otro                 NaN  \n",
       "1                  76        724.0                Otro                 NaN  \n",
       "2                   5        724.0                Otro                 NaN  \n",
       "3                   5          NaN                Otro                 NaN  \n",
       "4                   5          NaN                Otro                 NaN  \n",
       "\n",
       "[5 rows x 21 columns]"
      ]
     },
     "execution_count": 3,
     "metadata": {},
     "output_type": "execute_result"
    }
   ],
   "source": [
    "# Returns the first x number of rows when head(num). Without a number it returns 5\n",
    "df.head()"
   ]
  },
  {
   "cell_type": "code",
   "execution_count": 4,
   "metadata": {},
   "outputs": [
    {
     "name": "stdout",
     "output_type": "stream",
     "text": [
      "<class 'pandas.core.frame.DataFrame'>\n",
      "RangeIndex: 91769 entries, 0 to 91768\n",
      "Data columns (total 21 columns):\n",
      " #   Column                    Non-Null Count  Dtype  \n",
      "---  ------                    --------------  -----  \n",
      " 0   ID de caso                91769 non-null  int64  \n",
      " 1   Fecha de notificación     91769 non-null  object \n",
      " 2   Código DIVIPOLA           91769 non-null  int64  \n",
      " 3   Ciudad de ubicación       91769 non-null  object \n",
      " 4   Departamento o Distrito   91769 non-null  object \n",
      " 5   atención                  91620 non-null  object \n",
      " 6   Edad                      91769 non-null  int64  \n",
      " 7   Sexo                      91769 non-null  object \n",
      " 8   Tipo                      91769 non-null  object \n",
      " 9   Estado                    91620 non-null  object \n",
      " 10  País de procedencia       934 non-null    object \n",
      " 11  FIS                       91769 non-null  object \n",
      " 12  Fecha de muerte           3191 non-null   object \n",
      " 13  Fecha diagnostico         89693 non-null  object \n",
      " 14  Fecha recuperado          38280 non-null  object \n",
      " 15  fecha reporte web         91769 non-null  object \n",
      " 16  Tipo recuperación         38280 non-null  object \n",
      " 17  Codigo departamento       91769 non-null  int64  \n",
      " 18  Codigo pais               872 non-null    float64\n",
      " 19  Pertenencia etnica        84442 non-null  object \n",
      " 20  Nombre grupo etnico       938 non-null    object \n",
      "dtypes: float64(1), int64(4), object(16)\n",
      "memory usage: 14.7+ MB\n"
     ]
    }
   ],
   "source": [
    "# Returns basic information on all columns\n",
    "df.info()"
   ]
  },
  {
   "cell_type": "markdown",
   "metadata": {},
   "source": [
    "### General View"
   ]
  },
  {
   "cell_type": "markdown",
   "metadata": {},
   "source": [
    "What is the total number of confirmed cases?"
   ]
  },
  {
   "cell_type": "code",
   "execution_count": 5,
   "metadata": {},
   "outputs": [
    {
     "data": {
      "text/plain": [
       "91620"
      ]
     },
     "execution_count": 5,
     "metadata": {},
     "output_type": "execute_result"
    }
   ],
   "source": [
    "n_confirmed = df[\"atención\"].count()\n",
    "n_confirmed"
   ]
  },
  {
   "cell_type": "markdown",
   "metadata": {},
   "source": [
    "What is the total number of recovered cases?"
   ]
  },
  {
   "cell_type": "code",
   "execution_count": 6,
   "metadata": {},
   "outputs": [
    {
     "data": {
      "text/plain": [
       "38280"
      ]
     },
     "execution_count": 6,
     "metadata": {},
     "output_type": "execute_result"
    }
   ],
   "source": [
    "n_recovered = df[df[\"atención\"]==\"Recuperado\"][\"ID de caso\"].count()\n",
    "n_recovered"
   ]
  },
  {
   "cell_type": "markdown",
   "metadata": {},
   "source": [
    "What is the total number of deceased cases?"
   ]
  },
  {
   "cell_type": "code",
   "execution_count": 7,
   "metadata": {},
   "outputs": [
    {
     "data": {
      "text/plain": [
       "3106"
      ]
     },
     "execution_count": 7,
     "metadata": {},
     "output_type": "execute_result"
    }
   ],
   "source": [
    "n_deceased = df[df[\"atención\"]==\"Fallecido\"][\"ID de caso\"].count()\n",
    "n_deceased"
   ]
  },
  {
   "cell_type": "markdown",
   "metadata": {},
   "source": [
    "What is the total number of departments with cases?"
   ]
  },
  {
   "cell_type": "code",
   "execution_count": 8,
   "metadata": {},
   "outputs": [],
   "source": [
    "#function to remove accents\n",
    "import unicodedata\n",
    "def remove_accents(string):\n",
    "    s = ''.join((c for c in unicodedata.normalize('NFD',string) if unicodedata.category(c) != 'Mn'))\n",
    "    return s"
   ]
  },
  {
   "cell_type": "code",
   "execution_count": 9,
   "metadata": {},
   "outputs": [],
   "source": [
    "df[\"Departamento o Distrito \"] = df[\"Departamento o Distrito \"].apply(remove_accents)"
   ]
  },
  {
   "cell_type": "code",
   "execution_count": 10,
   "metadata": {},
   "outputs": [],
   "source": [
    "#function to return the deparment of the districts \n",
    "def departament(district):\n",
    "    if district == \"Bogota D.C.\":\n",
    "        return \"Santafe de Bogota D.C\" \n",
    "    elif district == \"Barranquilla D.E.\":\n",
    "        return \"Atlantico\"\n",
    "    elif district == \"Cartagena D.T. y C.\":\n",
    "        return \"Bolivar\"\n",
    "    elif district == \"Santa Marta D.T. y C.\":\n",
    "        return \"Magdalena\"\n",
    "    elif district == \"Buenaventura D.E.\":\n",
    "        return \"Valle del Cauca\"\n",
    "    else:\n",
    "        return district"
   ]
  },
  {
   "cell_type": "code",
   "execution_count": 11,
   "metadata": {},
   "outputs": [],
   "source": [
    "df[\"Departamento o Distrito \" ] = df[\"Departamento o Distrito \" ].apply(departament)"
   ]
  },
  {
   "cell_type": "code",
   "execution_count": 12,
   "metadata": {},
   "outputs": [
    {
     "data": {
      "text/plain": [
       "33"
      ]
     },
     "execution_count": 12,
     "metadata": {},
     "output_type": "execute_result"
    }
   ],
   "source": [
    "n_deparments = df[\"Departamento o Distrito \"].nunique()\n",
    "n_deparments"
   ]
  },
  {
   "cell_type": "code",
   "execution_count": 13,
   "metadata": {},
   "outputs": [
    {
     "data": {
      "text/plain": [
       "array(['Santafe de Bogota D.C', 'Valle del Cauca', 'Antioquia', 'Bolivar',\n",
       "       'Huila', 'Meta', 'Risaralda', 'Norte de Santander', 'Caldas',\n",
       "       'Cundinamarca', 'Atlantico', 'Santander', 'Quindio', 'Tolima',\n",
       "       'Cauca', 'Magdalena', 'Cesar',\n",
       "       'Archipielago de San Andres Providencia y Santa Catalina',\n",
       "       'Casanare', 'Narino', 'Boyaca', 'Cordoba', 'Sucre', 'La Guajira',\n",
       "       'Choco', 'Amazonas', 'Caqueta', 'Putumayo', 'Arauca', 'Vaupes',\n",
       "       'Guainia', 'Vichada', 'Guaviare'], dtype=object)"
      ]
     },
     "execution_count": 13,
     "metadata": {},
     "output_type": "execute_result"
    }
   ],
   "source": [
    "df[\"Departamento o Distrito \"].unique()"
   ]
  },
  {
   "cell_type": "markdown",
   "metadata": {},
   "source": [
    "### Visualizations"
   ]
  },
  {
   "cell_type": "markdown",
   "metadata": {},
   "source": [
    "#### Graphic by type of atention\n",
    "Groupby object called by_atention, where the DataFrame is group by the atention column and use the count() method for aggregation."
   ]
  },
  {
   "cell_type": "code",
   "execution_count": 14,
   "metadata": {},
   "outputs": [
    {
     "data": {
      "text/html": [
       "<div>\n",
       "<style scoped>\n",
       "    .dataframe tbody tr th:only-of-type {\n",
       "        vertical-align: middle;\n",
       "    }\n",
       "\n",
       "    .dataframe tbody tr th {\n",
       "        vertical-align: top;\n",
       "    }\n",
       "\n",
       "    .dataframe thead th {\n",
       "        text-align: right;\n",
       "    }\n",
       "</style>\n",
       "<table border=\"1\" class=\"dataframe\">\n",
       "  <thead>\n",
       "    <tr style=\"text-align: right;\">\n",
       "      <th></th>\n",
       "      <th>atención</th>\n",
       "      <th>Cantidad</th>\n",
       "    </tr>\n",
       "  </thead>\n",
       "  <tbody>\n",
       "    <tr>\n",
       "      <th>0</th>\n",
       "      <td>Casa</td>\n",
       "      <td>45344</td>\n",
       "    </tr>\n",
       "    <tr>\n",
       "      <th>1</th>\n",
       "      <td>Fallecido</td>\n",
       "      <td>3106</td>\n",
       "    </tr>\n",
       "    <tr>\n",
       "      <th>2</th>\n",
       "      <td>Hospital</td>\n",
       "      <td>4356</td>\n",
       "    </tr>\n",
       "    <tr>\n",
       "      <th>3</th>\n",
       "      <td>Hospital UCI</td>\n",
       "      <td>534</td>\n",
       "    </tr>\n",
       "    <tr>\n",
       "      <th>4</th>\n",
       "      <td>Recuperado</td>\n",
       "      <td>38280</td>\n",
       "    </tr>\n",
       "  </tbody>\n",
       "</table>\n",
       "</div>"
      ],
      "text/plain": [
       "       atención  Cantidad\n",
       "0          Casa     45344\n",
       "1     Fallecido      3106\n",
       "2      Hospital      4356\n",
       "3  Hospital UCI       534\n",
       "4    Recuperado     38280"
      ]
     },
     "execution_count": 14,
     "metadata": {},
     "output_type": "execute_result"
    }
   ],
   "source": [
    "by_atention = df.groupby('atención')[\"Edad\"].count().reset_index()\n",
    "by_atention.rename(columns={\"Edad\":\"Cantidad\"},inplace=True)\n",
    "by_atention"
   ]
  },
  {
   "cell_type": "markdown",
   "metadata": {},
   "source": [
    "Barplot of the dataframe indicating the count by type of atention"
   ]
  },
  {
   "cell_type": "code",
   "execution_count": 15,
   "metadata": {},
   "outputs": [
    {
     "data": {
      "image/png": "[encoded data removed]",
      "text/plain": [
       "<Figure size 864x432 with 1 Axes>"
      ]
     },
     "metadata": {
      "needs_background": "light"
     },
     "output_type": "display_data"
    }
   ],
   "source": [
    "plt.figure(figsize=(12,6))\n",
    "g = sns.barplot(x=\"atención\", y=\"Cantidad\", data=by_atention, palette=\"bright\")\n",
    "g.legend([\"Total \" +str(n_confirmed)])\n",
    "\n",
    "for index, row in by_atention.iterrows():\n",
    "    g.text(row.name,  row.Cantidad, row.Cantidad, ha='center',va=\"baseline\", color=\"black\")"
   ]
  },
  {
   "cell_type": "markdown",
   "metadata": {},
   "source": [
    "#### Graphic by type of age distribution\n",
    "Create a new column called Categoria to make groups of ages"
   ]
  },
  {
   "cell_type": "code",
   "execution_count": 16,
   "metadata": {},
   "outputs": [],
   "source": [
    "bins = np.arange(0, 100, 10)\n",
    "df['categoria'] = np.digitize(df.Edad, bins=bins)"
   ]
  },
  {
   "cell_type": "markdown",
   "metadata": {},
   "source": [
    "Create a dataframe that has the information by group of ages of the confirmed, recover and deceased cases"
   ]
  },
  {
   "cell_type": "code",
   "execution_count": 17,
   "metadata": {},
   "outputs": [],
   "source": [
    "df_confirmed = df.groupby('categoria').Edad.count().reset_index()\n",
    "df_recovered = df[df[\"atención\"] == \"Recuperado\"].groupby(['categoria']).Edad.count().reset_index()\n",
    "df_deceased = df[df[\"atención\"] == \"Fallecido\"].groupby(['categoria']).Edad.count().reset_index()"
   ]
  },
  {
   "cell_type": "code",
   "execution_count": 18,
   "metadata": {},
   "outputs": [],
   "source": [
    "from functools import reduce\n",
    "data_frames = [df_confirmed, df_recovered, df_deceased]\n",
    "df_category = reduce(lambda  left,right: pd.merge(left,right,on=['categoria'],\n",
    "                                            how='left'), data_frames)"
   ]
  },
  {
   "cell_type": "code",
   "execution_count": 19,
   "metadata": {},
   "outputs": [],
   "source": [
    "df_category.rename(columns={\"Edad_x\":\"Cantidad_Confirmados\",\"Edad_y\":\"Cantidad_Recuperados\",\n",
    "                          \"Edad\":\"Cantidad_Fallecidos\"},inplace=True)"
   ]
  },
  {
   "cell_type": "code",
   "execution_count": 20,
   "metadata": {},
   "outputs": [
    {
     "data": {
      "text/html": [
       "<div>\n",
       "<style scoped>\n",
       "    .dataframe tbody tr th:only-of-type {\n",
       "        vertical-align: middle;\n",
       "    }\n",
       "\n",
       "    .dataframe tbody tr th {\n",
       "        vertical-align: top;\n",
       "    }\n",
       "\n",
       "    .dataframe thead th {\n",
       "        text-align: right;\n",
       "    }\n",
       "</style>\n",
       "<table border=\"1\" class=\"dataframe\">\n",
       "  <thead>\n",
       "    <tr style=\"text-align: right;\">\n",
       "      <th></th>\n",
       "      <th>categoria</th>\n",
       "      <th>Cantidad_Confirmados</th>\n",
       "      <th>Cantidad_Recuperados</th>\n",
       "      <th>Cantidad_Fallecidos</th>\n",
       "    </tr>\n",
       "  </thead>\n",
       "  <tbody>\n",
       "    <tr>\n",
       "      <th>0</th>\n",
       "      <td>1</td>\n",
       "      <td>3802</td>\n",
       "      <td>1735</td>\n",
       "      <td>10</td>\n",
       "    </tr>\n",
       "    <tr>\n",
       "      <th>1</th>\n",
       "      <td>2</td>\n",
       "      <td>6709</td>\n",
       "      <td>3084</td>\n",
       "      <td>3</td>\n",
       "    </tr>\n",
       "    <tr>\n",
       "      <th>2</th>\n",
       "      <td>3</td>\n",
       "      <td>19986</td>\n",
       "      <td>8861</td>\n",
       "      <td>47</td>\n",
       "    </tr>\n",
       "    <tr>\n",
       "      <th>3</th>\n",
       "      <td>4</td>\n",
       "      <td>21068</td>\n",
       "      <td>8794</td>\n",
       "      <td>108</td>\n",
       "    </tr>\n",
       "    <tr>\n",
       "      <th>4</th>\n",
       "      <td>5</td>\n",
       "      <td>14521</td>\n",
       "      <td>6140</td>\n",
       "      <td>252</td>\n",
       "    </tr>\n",
       "    <tr>\n",
       "      <th>5</th>\n",
       "      <td>6</td>\n",
       "      <td>11799</td>\n",
       "      <td>4923</td>\n",
       "      <td>424</td>\n",
       "    </tr>\n",
       "    <tr>\n",
       "      <th>6</th>\n",
       "      <td>7</td>\n",
       "      <td>7345</td>\n",
       "      <td>2738</td>\n",
       "      <td>744</td>\n",
       "    </tr>\n",
       "    <tr>\n",
       "      <th>7</th>\n",
       "      <td>8</td>\n",
       "      <td>4036</td>\n",
       "      <td>1354</td>\n",
       "      <td>759</td>\n",
       "    </tr>\n",
       "    <tr>\n",
       "      <th>8</th>\n",
       "      <td>9</td>\n",
       "      <td>2068</td>\n",
       "      <td>546</td>\n",
       "      <td>593</td>\n",
       "    </tr>\n",
       "    <tr>\n",
       "      <th>9</th>\n",
       "      <td>10</td>\n",
       "      <td>435</td>\n",
       "      <td>105</td>\n",
       "      <td>166</td>\n",
       "    </tr>\n",
       "  </tbody>\n",
       "</table>\n",
       "</div>"
      ],
      "text/plain": [
       "   categoria  Cantidad_Confirmados  Cantidad_Recuperados  Cantidad_Fallecidos\n",
       "0          1                  3802                  1735                   10\n",
       "1          2                  6709                  3084                    3\n",
       "2          3                 19986                  8861                   47\n",
       "3          4                 21068                  8794                  108\n",
       "4          5                 14521                  6140                  252\n",
       "5          6                 11799                  4923                  424\n",
       "6          7                  7345                  2738                  744\n",
       "7          8                  4036                  1354                  759\n",
       "8          9                  2068                   546                  593\n",
       "9         10                   435                   105                  166"
      ]
     },
     "execution_count": 20,
     "metadata": {},
     "output_type": "execute_result"
    }
   ],
   "source": [
    "df_category"
   ]
  },
  {
   "cell_type": "markdown",
   "metadata": {},
   "source": [
    "Barplots of the dataframe indicating the count of Confirmed, Recovered and Deceased cases by age category"
   ]
  },
  {
   "cell_type": "code",
   "execution_count": 21,
   "metadata": {},
   "outputs": [
    {
     "data": {
      "image/png": "[encoded data removed]",
      "text/plain": [
       "<Figure size 864x720 with 3 Axes>"
      ]
     },
     "metadata": {
      "needs_background": "light"
     },
     "output_type": "display_data"
    }
   ],
   "source": [
    "ticktext = ['0-9', '10-19', '20-29', '30-39', '40-49', '50-59', \"60-69\", \"70-79\", \"80-89\", \"90-99\"]\n",
    "n_interest = [n_confirmed, n_recovered, n_deceased]\n",
    "titles = [\"Cantidad_Confirmados\", \"Cantidad_Recuperados\", \"Cantidad_Fallecidos\"]\n",
    "i = 0\n",
    "\n",
    "fig, axes = plt.subplots(nrows=3,ncols=1,figsize=(12,10))\n",
    "\n",
    "for title in titles:\n",
    "    g = sns.barplot(x=\"categoria\", y=title, data=df_category, palette=\"bright\", ax=axes[i])\n",
    "    g.set(xticklabels=ticktext)\n",
    "    g.set(title= \"Distribucion por edad de Casos \" + titles[i].split(\"_\")[1])\n",
    "    g.legend([\"Total \" +str(n_interest[i])])\n",
    "    \n",
    "    for index, row in df_category.iterrows():\n",
    "        g.text(row.name, row[title], row[title], ha='center', color=\"black\")\n",
    "    i+=1 \n",
    "    \n",
    "plt.tight_layout()"
   ]
  },
  {
   "cell_type": "markdown",
   "metadata": {},
   "source": [
    "#### Graphic by gender\n",
    "Create a dataframe that has the information by sex of the confirmed, recover and deceased cases"
   ]
  },
  {
   "cell_type": "code",
   "execution_count": 22,
   "metadata": {},
   "outputs": [],
   "source": [
    "df_S_confirmed = df.groupby('Sexo').Edad.count().reset_index()\n",
    "df_S_recovered = df[df[\"atención\"] == \"Recuperado\"].groupby(['Sexo']).Edad.count().reset_index()\n",
    "df_S_deceased = df[df[\"atención\"] == \"Fallecido\"].groupby(['Sexo']).Edad.count().reset_index()"
   ]
  },
  {
   "cell_type": "code",
   "execution_count": 23,
   "metadata": {},
   "outputs": [],
   "source": [
    "data_frames = [df_S_confirmed, df_S_recovered, df_S_deceased]\n",
    "df_sex = reduce(lambda  left,right: pd.merge(left,right,on=['Sexo'],\n",
    "                                            how='inner'), data_frames)"
   ]
  },
  {
   "cell_type": "code",
   "execution_count": 24,
   "metadata": {},
   "outputs": [
    {
     "data": {
      "text/html": [
       "<div>\n",
       "<style scoped>\n",
       "    .dataframe tbody tr th:only-of-type {\n",
       "        vertical-align: middle;\n",
       "    }\n",
       "\n",
       "    .dataframe tbody tr th {\n",
       "        vertical-align: top;\n",
       "    }\n",
       "\n",
       "    .dataframe thead th {\n",
       "        text-align: right;\n",
       "    }\n",
       "</style>\n",
       "<table border=\"1\" class=\"dataframe\">\n",
       "  <thead>\n",
       "    <tr style=\"text-align: right;\">\n",
       "      <th></th>\n",
       "      <th>Sexo</th>\n",
       "      <th>Cantidad_Confirmados</th>\n",
       "      <th>Cantidad_Recuperados</th>\n",
       "      <th>Cantidad_Fallecidos</th>\n",
       "    </tr>\n",
       "  </thead>\n",
       "  <tbody>\n",
       "    <tr>\n",
       "      <th>0</th>\n",
       "      <td>F</td>\n",
       "      <td>42188</td>\n",
       "      <td>17975</td>\n",
       "      <td>1201</td>\n",
       "    </tr>\n",
       "    <tr>\n",
       "      <th>1</th>\n",
       "      <td>M</td>\n",
       "      <td>49572</td>\n",
       "      <td>20299</td>\n",
       "      <td>1905</td>\n",
       "    </tr>\n",
       "  </tbody>\n",
       "</table>\n",
       "</div>"
      ],
      "text/plain": [
       "  Sexo  Cantidad_Confirmados  Cantidad_Recuperados  Cantidad_Fallecidos\n",
       "0    F                 42188                 17975                 1201\n",
       "1    M                 49572                 20299                 1905"
      ]
     },
     "execution_count": 24,
     "metadata": {},
     "output_type": "execute_result"
    }
   ],
   "source": [
    "df_sex.rename(columns={\"Edad_x\":\"Cantidad_Confirmados\",\"Edad_y\":\"Cantidad_Recuperados\",\n",
    "                          \"Edad\":\"Cantidad_Fallecidos\"},inplace=True)\n",
    "\n",
    "df_sex"
   ]
  },
  {
   "cell_type": "markdown",
   "metadata": {},
   "source": [
    "Piecharts of the dataframe indicating the percentages of Confirmed, Recovered and Deceased cases by sex"
   ]
  },
  {
   "cell_type": "code",
   "execution_count": 25,
   "metadata": {},
   "outputs": [
    {
     "data": {
      "image/png": "[encoded data removed]",
      "text/plain": [
       "<Figure size 864x288 with 3 Axes>"
      ]
     },
     "metadata": {},
     "output_type": "display_data"
    }
   ],
   "source": [
    "titles = [\"Cantidad_Confirmados\", \"Cantidad_Recuperados\", \"Cantidad_Fallecidos\"]\n",
    "labels=[\"Femenino\",\"Masculino\"]\n",
    "explode = (0.1, 0)\n",
    "fig, axes = plt.subplots(1, 3, figsize=(12, 4))\n",
    "i=0\n",
    "\n",
    "for title in titles:\n",
    "    axes[i].pie(df_sex[title], labels=labels, autopct='%1.1f%%',\n",
    "                shadow=True, colors=[\"darkviolet\",\"orangered\"],counterclock=True, startangle=150,\n",
    "                explode=explode, textprops=dict(color=\"w\"))\n",
    "    axes[i].set_title(title.split(\"_\")[1],fontweight='bold')\n",
    "    axes[i].axis('equal')\n",
    "    i+=1\n",
    "\n",
    "fig.legend(labels, loc=\"upper right\")\n",
    "fig.tight_layout()"
   ]
  },
  {
   "cell_type": "markdown",
   "metadata": {},
   "source": [
    "#### Graphic by type of atention of the confirmed cases\n",
    "Create a new column called Activo that is Activo if the person is not recovered or deceased"
   ]
  },
  {
   "cell_type": "code",
   "execution_count": 26,
   "metadata": {},
   "outputs": [],
   "source": [
    "df[\"Activo\"] = df[\"atención\"].apply(lambda x: \"Activo\" if (x == \"Casa\") | (x == \"Hospital\" ) | (x == \"Hospital UCI\" ) else x)"
   ]
  },
  {
   "cell_type": "code",
   "execution_count": 27,
   "metadata": {},
   "outputs": [
    {
     "data": {
      "text/html": [
       "<div>\n",
       "<style scoped>\n",
       "    .dataframe tbody tr th:only-of-type {\n",
       "        vertical-align: middle;\n",
       "    }\n",
       "\n",
       "    .dataframe tbody tr th {\n",
       "        vertical-align: top;\n",
       "    }\n",
       "\n",
       "    .dataframe thead th {\n",
       "        text-align: right;\n",
       "    }\n",
       "</style>\n",
       "<table border=\"1\" class=\"dataframe\">\n",
       "  <thead>\n",
       "    <tr style=\"text-align: right;\">\n",
       "      <th></th>\n",
       "      <th>Activo</th>\n",
       "      <th>Cantidad</th>\n",
       "    </tr>\n",
       "  </thead>\n",
       "  <tbody>\n",
       "    <tr>\n",
       "      <th>0</th>\n",
       "      <td>Activo</td>\n",
       "      <td>50234</td>\n",
       "    </tr>\n",
       "    <tr>\n",
       "      <th>1</th>\n",
       "      <td>Fallecido</td>\n",
       "      <td>3106</td>\n",
       "    </tr>\n",
       "    <tr>\n",
       "      <th>2</th>\n",
       "      <td>Recuperado</td>\n",
       "      <td>38280</td>\n",
       "    </tr>\n",
       "  </tbody>\n",
       "</table>\n",
       "</div>"
      ],
      "text/plain": [
       "       Activo  Cantidad\n",
       "0      Activo     50234\n",
       "1   Fallecido      3106\n",
       "2  Recuperado     38280"
      ]
     },
     "execution_count": 27,
     "metadata": {},
     "output_type": "execute_result"
    }
   ],
   "source": [
    "df_Aten_confirmed = df.groupby('Activo')[\"Edad\"].count().reset_index()\n",
    "df_Aten_confirmed.rename(columns={\"Edad\":\"Cantidad\"},inplace = True)\n",
    "df_Aten_confirmed"
   ]
  },
  {
   "cell_type": "markdown",
   "metadata": {},
   "source": [
    "Create a dataframe that has the information of active cases by the type of attention that are receiving"
   ]
  },
  {
   "cell_type": "code",
   "execution_count": 28,
   "metadata": {},
   "outputs": [
    {
     "data": {
      "text/html": [
       "<div>\n",
       "<style scoped>\n",
       "    .dataframe tbody tr th:only-of-type {\n",
       "        vertical-align: middle;\n",
       "    }\n",
       "\n",
       "    .dataframe tbody tr th {\n",
       "        vertical-align: top;\n",
       "    }\n",
       "\n",
       "    .dataframe thead th {\n",
       "        text-align: right;\n",
       "    }\n",
       "</style>\n",
       "<table border=\"1\" class=\"dataframe\">\n",
       "  <thead>\n",
       "    <tr style=\"text-align: right;\">\n",
       "      <th></th>\n",
       "      <th>atención</th>\n",
       "      <th>Cantidad</th>\n",
       "    </tr>\n",
       "  </thead>\n",
       "  <tbody>\n",
       "    <tr>\n",
       "      <th>0</th>\n",
       "      <td>Casa</td>\n",
       "      <td>45344</td>\n",
       "    </tr>\n",
       "    <tr>\n",
       "      <th>1</th>\n",
       "      <td>Hospital</td>\n",
       "      <td>4356</td>\n",
       "    </tr>\n",
       "    <tr>\n",
       "      <th>2</th>\n",
       "      <td>Hospital UCI</td>\n",
       "      <td>534</td>\n",
       "    </tr>\n",
       "  </tbody>\n",
       "</table>\n",
       "</div>"
      ],
      "text/plain": [
       "       atención  Cantidad\n",
       "0          Casa     45344\n",
       "1      Hospital      4356\n",
       "2  Hospital UCI       534"
      ]
     },
     "execution_count": 28,
     "metadata": {},
     "output_type": "execute_result"
    }
   ],
   "source": [
    "df_actives = df.groupby('atención').Edad.count().reset_index()\n",
    "df_actives = df_actives[(df_actives[\"atención\"] != \"Fallecido\") & (df_actives[\"atención\"] != \"Recuperado\")].reset_index()\n",
    "df_actives.rename(columns={\"Edad\":\"Cantidad\"}, inplace = True)\n",
    "df_actives.drop(columns={\"index\"}, inplace=True)\n",
    "df_actives"
   ]
  },
  {
   "cell_type": "markdown",
   "metadata": {},
   "source": [
    "Piecharts of the dataframes indicating the percentages of confirmed cases by type of situation that they are and the attention that are receiving the confirmed cases "
   ]
  },
  {
   "cell_type": "code",
   "execution_count": 29,
   "metadata": {},
   "outputs": [
    {
     "data": {
      "image/png": "[encoded data removed]",
      "text/plain": [
       "<Figure size 864x288 with 2 Axes>"
      ]
     },
     "metadata": {},
     "output_type": "display_data"
    }
   ],
   "source": [
    "cmap = plt.get_cmap(\"tab20c\")\n",
    "colors = cmap(np.arange(3)*4)\n",
    "\n",
    "explode = (0.1, 0.1, 0.1)\n",
    "fig, axes = plt.subplots(1, 2, figsize=(12, 4))\n",
    "i=0\n",
    "\n",
    "wedges, texts, autotexts = axes[0].pie(df_Aten_confirmed[\"Cantidad\"], labels=df_Aten_confirmed[\"Activo\"], autopct='%1.1f%%',\n",
    "            shadow=True, colors=colors,counterclock=True, startangle=150,\n",
    "            explode=explode, textprops=dict(color=\"black\"))\n",
    "axes[0].set_title(\"Confirmados\",fontweight='bold')\n",
    "axes[0].legend(list(df_Aten_confirmed[\"Cantidad\"]), loc=\"upper right\")\n",
    "axes[0].axis('equal')\n",
    "plt.setp(autotexts, size=12, weight=\"bold\")\n",
    "   \n",
    "\n",
    "wedges, texts, autotexts = axes[1].pie(df_actives[\"Cantidad\"], labels=df_actives[\"atención\"], autopct='%1.1f%%',\n",
    "            shadow=True, colors=colors,counterclock=True, startangle=150,\n",
    "            explode=explode, textprops=dict(color=\"black\"))\n",
    "axes[1].set_title(\"Activos\",fontweight='bold')\n",
    "axes[1].legend(list(df_actives[\"Cantidad\"]), loc=\"upper right\")\n",
    "axes[1].axis('equal')\n",
    "plt.setp(autotexts, size=12, weight=\"bold\")\n",
    "\n",
    "fig.tight_layout()"
   ]
  },
  {
   "cell_type": "markdown",
   "metadata": {},
   "source": [
    "#### Graphic by deparments"
   ]
  },
  {
   "cell_type": "markdown",
   "metadata": {},
   "source": [
    "Create a dataframe that has the information of total, active, recovered and deceased cases by deparments"
   ]
  },
  {
   "cell_type": "code",
   "execution_count": 30,
   "metadata": {},
   "outputs": [],
   "source": [
    "df_deparments = df.groupby(\"Departamento o Distrito \").Edad.count().reset_index()\n",
    "df_deparments.rename(columns={\"Edad\":\"Total\"}, inplace = True)"
   ]
  },
  {
   "cell_type": "code",
   "execution_count": 31,
   "metadata": {},
   "outputs": [],
   "source": [
    "df_C_actives = df[(df[\"atención\"] != \"Recuperado\") & (df[\"atención\"] != \"Fallecido\") ].groupby([\"Departamento o Distrito \"]).Edad.count().reset_index()\n",
    "df_C_actives.rename(columns={\"Edad\":\"Cantidad_Activos\"}, inplace = True)"
   ]
  },
  {
   "cell_type": "code",
   "execution_count": 32,
   "metadata": {},
   "outputs": [],
   "source": [
    "df_C_recovered = df[df[\"atención\"] == \"Recuperado\"].groupby([\"Departamento o Distrito \"]).Edad.count().reset_index()\n",
    "df_C_recovered.rename(columns={\"Edad\":\"Cantidad_Recuperados\"}, inplace = True)"
   ]
  },
  {
   "cell_type": "code",
   "execution_count": 33,
   "metadata": {},
   "outputs": [],
   "source": [
    "df_C_deceased = df[df[\"atención\"] == \"Fallecido\"].groupby([\"Departamento o Distrito \"]).Edad.count().reset_index()\n",
    "df_C_deceased.rename(columns={\"Edad\":\"Cantidad_Fallecidos\"}, inplace = True)"
   ]
  },
  {
   "cell_type": "code",
   "execution_count": 34,
   "metadata": {},
   "outputs": [],
   "source": [
    "from functools import reduce\n",
    "data_frames = [df_deparments, df_C_actives, df_C_recovered, df_C_deceased]\n",
    "df_country = reduce(lambda  left,right: pd.merge(left,right,on=[\"Departamento o Distrito \"],\n",
    "                                            how='left'), data_frames).fillna(0)"
   ]
  },
  {
   "cell_type": "code",
   "execution_count": 35,
   "metadata": {},
   "outputs": [],
   "source": [
    "df_country[\"text\"] = df_country['Departamento o Distrito '] + \"<br>\" + \\\n",
    "\"Casos Activos: \" + df_country['Cantidad_Activos'].apply(str) + \"<br>\" + \\\n",
    "\" Recuperados: \" + df_country['Cantidad_Recuperados'].apply(str)  + \"<br>\" + \\\n",
    "\" Fallecidos: \" + df_country['Cantidad_Fallecidos'].apply(str)"
   ]
  },
  {
   "cell_type": "code",
   "execution_count": 36,
   "metadata": {},
   "outputs": [],
   "source": [
    "df_country[\"Departamento o Distrito \"] = df_country[\"Departamento o Distrito \"].apply(lambda x: x.upper())"
   ]
  },
  {
   "cell_type": "code",
   "execution_count": 37,
   "metadata": {},
   "outputs": [
    {
     "data": {
      "text/html": [
       "<div>\n",
       "<style scoped>\n",
       "    .dataframe tbody tr th:only-of-type {\n",
       "        vertical-align: middle;\n",
       "    }\n",
       "\n",
       "    .dataframe tbody tr th {\n",
       "        vertical-align: top;\n",
       "    }\n",
       "\n",
       "    .dataframe thead th {\n",
       "        text-align: right;\n",
       "    }\n",
       "</style>\n",
       "<table border=\"1\" class=\"dataframe\">\n",
       "  <thead>\n",
       "    <tr style=\"text-align: right;\">\n",
       "      <th></th>\n",
       "      <th>Departamento o Distrito</th>\n",
       "      <th>Total</th>\n",
       "      <th>Cantidad_Activos</th>\n",
       "      <th>Cantidad_Recuperados</th>\n",
       "      <th>Cantidad_Fallecidos</th>\n",
       "      <th>text</th>\n",
       "    </tr>\n",
       "  </thead>\n",
       "  <tbody>\n",
       "    <tr>\n",
       "      <th>0</th>\n",
       "      <td>AMAZONAS</td>\n",
       "      <td>2259</td>\n",
       "      <td>277.0</td>\n",
       "      <td>1894</td>\n",
       "      <td>88.0</td>\n",
       "      <td>Amazonas&lt;br&gt;Casos Activos: 277.0&lt;br&gt; Recuperad...</td>\n",
       "    </tr>\n",
       "    <tr>\n",
       "      <th>1</th>\n",
       "      <td>ANTIOQUIA</td>\n",
       "      <td>4089</td>\n",
       "      <td>2543.0</td>\n",
       "      <td>1521</td>\n",
       "      <td>25.0</td>\n",
       "      <td>Antioquia&lt;br&gt;Casos Activos: 2543.0&lt;br&gt; Recuper...</td>\n",
       "    </tr>\n",
       "    <tr>\n",
       "      <th>2</th>\n",
       "      <td>ARAUCA</td>\n",
       "      <td>76</td>\n",
       "      <td>73.0</td>\n",
       "      <td>3</td>\n",
       "      <td>0.0</td>\n",
       "      <td>Arauca&lt;br&gt;Casos Activos: 73.0&lt;br&gt; Recuperados:...</td>\n",
       "    </tr>\n",
       "    <tr>\n",
       "      <th>3</th>\n",
       "      <td>ARCHIPIELAGO DE SAN ANDRES PROVIDENCIA Y SANTA...</td>\n",
       "      <td>24</td>\n",
       "      <td>7.0</td>\n",
       "      <td>17</td>\n",
       "      <td>0.0</td>\n",
       "      <td>Archipielago de San Andres Providencia y Santa...</td>\n",
       "    </tr>\n",
       "    <tr>\n",
       "      <th>4</th>\n",
       "      <td>ATLANTICO</td>\n",
       "      <td>22049</td>\n",
       "      <td>14299.0</td>\n",
       "      <td>6686</td>\n",
       "      <td>1064.0</td>\n",
       "      <td>Atlantico&lt;br&gt;Casos Activos: 14299.0&lt;br&gt; Recupe...</td>\n",
       "    </tr>\n",
       "  </tbody>\n",
       "</table>\n",
       "</div>"
      ],
      "text/plain": [
       "                            Departamento o Distrito   Total  Cantidad_Activos  \\\n",
       "0                                           AMAZONAS   2259             277.0   \n",
       "1                                          ANTIOQUIA   4089            2543.0   \n",
       "2                                             ARAUCA     76              73.0   \n",
       "3  ARCHIPIELAGO DE SAN ANDRES PROVIDENCIA Y SANTA...     24               7.0   \n",
       "4                                          ATLANTICO  22049           14299.0   \n",
       "\n",
       "   Cantidad_Recuperados  Cantidad_Fallecidos  \\\n",
       "0                  1894                 88.0   \n",
       "1                  1521                 25.0   \n",
       "2                     3                  0.0   \n",
       "3                    17                  0.0   \n",
       "4                  6686               1064.0   \n",
       "\n",
       "                                                text  \n",
       "0  Amazonas<br>Casos Activos: 277.0<br> Recuperad...  \n",
       "1  Antioquia<br>Casos Activos: 2543.0<br> Recuper...  \n",
       "2  Arauca<br>Casos Activos: 73.0<br> Recuperados:...  \n",
       "3  Archipielago de San Andres Providencia y Santa...  \n",
       "4  Atlantico<br>Casos Activos: 14299.0<br> Recupe...  "
      ]
     },
     "execution_count": 37,
     "metadata": {},
     "output_type": "execute_result"
    }
   ],
   "source": [
    "df_country.head()"
   ]
  },
  {
   "cell_type": "markdown",
   "metadata": {},
   "source": [
    "Geoplot of the dataframe indicating the total, active, recovered and deceased cases by departments "
   ]
  },
  {
   "cell_type": "code",
   "execution_count": 38,
   "metadata": {},
   "outputs": [],
   "source": [
    "import plotly.io as pio\n",
    "pio.renderers.default = \"svg\""
   ]
  },
  {
   "cell_type": "code",
   "execution_count": 39,
   "metadata": {},
   "outputs": [
    {
     "data": {
      "image/svg+xml": [
       "<svg class=\"main-svg\" xmlns=\"http://www.w3.org/2000/svg\" xmlns:xlink=\"http://www.w3.org/1999/xlink\" width=\"700\" height=\"450\" style=\"\" viewBox=\"0 0 700 450\"><rect x=\"0\" y=\"0\" width=\"700\" height=\"450\" style=\"fill: rgb(255, 255, 255); fill-opacity: 1;\"/><defs id=\"defs-207615\"><g class=\"clips\"/><g class=\"gradients\"><linearGradient x1=\"0\" x2=\"0\" y1=\"1\" y2=\"0\" id=\"g207615-cb6c7020\"><stop offset=\"0%\" stop-color=\"rgb(68, 1, 84)\" stop-opacity=\"1\"/><stop offset=\"11.11111111111111%\" stop-color=\"rgb(72, 40, 120)\" stop-opacity=\"1\"/><stop offset=\"22.22222222222222%\" stop-color=\"rgb(62, 73, 137)\" stop-opacity=\"1\"/><stop offset=\"33.33333333333333%\" stop-color=\"rgb(49, 104, 142)\" stop-opacity=\"1\"/><stop offset=\"44.44444444444444%\" stop-color=\"rgb(38, 130, 142)\" stop-opacity=\"1\"/><stop offset=\"55.55555555555556%\" stop-color=\"rgb(31, 158, 137)\" stop-opacity=\"1\"/><stop offset=\"66.66666666666666%\" stop-color=\"rgb(53, 183, 121)\" stop-opacity=\"1\"/><stop offset=\"77.77777777777779%\" stop-color=\"rgb(110, 206, 88)\" stop-opacity=\"1\"/><stop offset=\"88.88888888888889%\" stop-color=\"rgb(181, 222, 43)\" stop-opacity=\"1\"/><stop offset=\"100%\" stop-color=\"rgb(253, 231, 37)\" stop-opacity=\"1\"/></linearGradient></g></defs><g class=\"bglayer\"/><g class=\"layer-below\"><g class=\"imagelayer\"/><g class=\"shapelayer\"/></g><g class=\"cartesianlayer\"/><g class=\"polarlayer\"/><g class=\"ternarylayer\"/><g class=\"geolayer\"/><g class=\"funnelarealayer\"/><g class=\"pielayer\"/><g class=\"treemaplayer\"/><g class=\"sunburstlayer\"/><g class=\"glimages\"><image xmlns=\"http://www.w3.org/2000/svg\" xlink:href=\"data:image/png;base64,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\" x=\"80\" y=\"100\" width=\"471\" height=\"270\" preserveAspectRatio=\"none\"/><g transform=\"translate(551,370) scale(1)\"><rect x=\"-61.421875\" y=\"-17\" width=\"61.421875\" height=\"17\" fill=\"rgba(255, 255, 255, 0.75)\"/><text class=\"static-attribution\" font-size=\"12\" font-family=\"Arial\" color=\"rgba(0, 0, 0, 0.75)\" text-anchor=\"end\" transform=\"translate(-3, -6)\">© CARTO</text></g></g><defs id=\"topdefs-207615\"><g class=\"clips\"/></defs><g class=\"layer-above\"><g class=\"imagelayer\"/><g class=\"shapelayer\"/></g><g class=\"infolayer\"><g class=\"cb6c7020 colorbar\" transform=\"translate(80,100)\"><rect class=\"cbbg\" x=\"479.5\" y=\"-0.5\" width=\"127.40625\" height=\"271\" style=\"fill: rgb(0, 0, 0); fill-opacity: 0; stroke: rgb(68, 68, 68); stroke-opacity: 1; stroke-width: 0;\"/><g class=\"cbfills\" transform=\"translate(0,30)\"><rect class=\"cbfill\" x=\"490\" width=\"30\" y=\"0\" height=\"230\" style=\"stroke: none; fill: url('#g207615-cb6c7020');\"/></g><g class=\"cblines\" transform=\"translate(0,30)\"/><g class=\"cbaxis crisp\" transform=\"translate(0,-100)\"><g class=\"ycb6c7020tick\"><text text-anchor=\"start\" x=\"523.4\" y=\"4.199999999999999\" transform=\"translate(0,360.01)\" style=\"font-family: 'Open Sans', verdana, arial, sans-serif; font-size: 12px; fill: rgb(42, 63, 95); fill-opacity: 1; white-space: pre;\">0</text></g><g class=\"ycb6c7020tick\"><text text-anchor=\"start\" x=\"523.4\" y=\"4.199999999999999\" transform=\"translate(0,318.83)\" style=\"font-family: 'Open Sans', verdana, arial, sans-serif; font-size: 12px; fill: rgb(42, 63, 95); fill-opacity: 1; white-space: pre;\">5k</text></g><g class=\"ycb6c7020tick\"><text text-anchor=\"start\" x=\"523.4\" y=\"4.199999999999999\" transform=\"translate(0,277.65)\" style=\"font-family: 'Open Sans', verdana, arial, sans-serif; font-size: 12px; fill: rgb(42, 63, 95); fill-opacity: 1; white-space: pre;\">10k</text></g><g class=\"ycb6c7020tick\"><text text-anchor=\"start\" x=\"523.4\" y=\"4.199999999999999\" transform=\"translate(0,236.46999999999997)\" style=\"font-family: 'Open Sans', verdana, arial, sans-serif; font-size: 12px; fill: rgb(42, 63, 95); fill-opacity: 1; white-space: pre;\">15k</text></g><g class=\"ycb6c7020tick\"><text text-anchor=\"start\" x=\"523.4\" y=\"4.199999999999999\" transform=\"translate(0,195.28999999999996)\" style=\"font-family: 'Open Sans', verdana, arial, sans-serif; font-size: 12px; fill: rgb(42, 63, 95); fill-opacity: 1; white-space: pre;\">20k</text></g><g class=\"ycb6c7020tick\"><text text-anchor=\"start\" x=\"523.4\" y=\"4.199999999999999\" transform=\"translate(0,154.10999999999996)\" style=\"font-family: 'Open Sans', verdana, arial, sans-serif; font-size: 12px; fill: rgb(42, 63, 95); fill-opacity: 1; white-space: pre;\">25k</text></g></g><g class=\"cbtitleunshift\" transform=\"translate(-80,-100)\"><g class=\"cbtitle\" transform=\"translate(-0.5,-0.5)\"><text class=\"ycb6c7020title\" x=\"570.4200000000001\" y=\"121.99999999999999\" text-anchor=\"start\" style=\"font-family: 'Open Sans', verdana, arial, sans-serif; font-size: 12px; fill: rgb(42, 63, 95); opacity: 1; font-weight: normal; white-space: pre;\">Numero de Casos</text></g></g><rect class=\"cboutline\" x=\"490\" y=\"30\" width=\"30\" height=\"230\" style=\"stroke: rgb(68, 68, 68); stroke-opacity: 1; fill: none; stroke-width: 1;\"/></g><g class=\"g-gtitle\"/></g></svg>"
      ]
     },
     "metadata": {},
     "output_type": "display_data"
    }
   ],
   "source": [
    "import plotly.graph_objects as go\n",
    "import json\n",
    "from urllib.request import urlopen\n",
    "with urlopen('https://gist.githubusercontent.com/john-guerra/43c7656821069d00dcbc/raw/be6a6e239cd5b5b803c6e7c2ec405b793a9064dd/Colombia.geo.json') as response:\n",
    "    counties = json.load(response)\n",
    "locs = df_country[\"Departamento o Distrito \"]\n",
    "\n",
    "\n",
    "\n",
    "for loc in counties['features']:\n",
    "    loc['id'] = loc['properties']['NOMBRE_DPT']\n",
    "    \n",
    "fig = go.Figure(go.Choroplethmapbox(\n",
    "                    geojson=counties,\n",
    "                    locations= locs,\n",
    "                    text= df_country[\"text\"],\n",
    "                    z= df_country[\"Total\"],\n",
    "                    colorscale='viridis',\n",
    "                    colorbar_title=\"Numero de Casos\"))\n",
    "fig.update_layout(mapbox_style=\"carto-positron\",\n",
    "                        mapbox_zoom=3.5,\n",
    "                        mapbox_center = {\"lat\": 4.570868, \"lon\": -74.2973328})\n"
   ]
  },
  {
   "cell_type": "markdown",
   "metadata": {},
   "source": [
    "#### Evolution of the virus\n",
    "Create a data frame that has de information of the virus spread counting since the first day that someone had the virus "
   ]
  },
  {
   "cell_type": "code",
   "execution_count": 40,
   "metadata": {},
   "outputs": [],
   "source": [
    "df[\"Fecha diagnostico\"] = pd.to_datetime(df[\"Fecha diagnostico\"])\n",
    "df[\"Fecha de muerte\"] = pd.to_datetime(df['Fecha de muerte'], errors='coerce')\n",
    "df[\"Fecha recuperado\"] = pd.to_datetime(df['Fecha recuperado'], errors='coerce')"
   ]
  },
  {
   "cell_type": "markdown",
   "metadata": {},
   "source": [
    "Which day was the first report of the virus ?"
   ]
  },
  {
   "cell_type": "code",
   "execution_count": 41,
   "metadata": {},
   "outputs": [
    {
     "data": {
      "text/plain": [
       "Timestamp('2020-03-06 00:00:00')"
      ]
     },
     "execution_count": 41,
     "metadata": {},
     "output_type": "execute_result"
    }
   ],
   "source": [
    "initialDate = df[\"Fecha diagnostico\"].min()\n",
    "initialDate"
   ]
  },
  {
   "cell_type": "code",
   "execution_count": 42,
   "metadata": {},
   "outputs": [],
   "source": [
    "df['Numero de Dia'] = (df['Fecha diagnostico'] - initialDate).dt.days\n",
    "df['Dia Recuperado'] = (df['Fecha recuperado'] - initialDate).dt.days\n",
    "df['Dia Muerte'] = (df['Fecha de muerte'] - initialDate).dt.days"
   ]
  },
  {
   "cell_type": "code",
   "execution_count": 43,
   "metadata": {},
   "outputs": [],
   "source": [
    "df_Acum_casos = df.groupby(\"Numero de Dia\").Edad.count().reset_index()\n",
    "df_Acum_casos.rename(columns={\"Edad\":\"Casos\"}, inplace = True)"
   ]
  },
  {
   "cell_type": "code",
   "execution_count": 44,
   "metadata": {},
   "outputs": [],
   "source": [
    "df_Acum_recovered = df[df[\"atención\"] == \"Recuperado\"].groupby([\"Dia Recuperado\"]).Edad.count().reset_index()\n",
    "df_Acum_recovered.rename(columns={\"Edad\":\"Recuperados\"}, inplace = True)"
   ]
  },
  {
   "cell_type": "code",
   "execution_count": 45,
   "metadata": {},
   "outputs": [],
   "source": [
    "df_Acum_deceased = df[df[\"atención\"] == \"Fallecido\"].groupby([\"Dia Muerte\"]).Edad.count().reset_index()\n",
    "df_Acum_deceased.rename(columns={\"Edad\":\"Fallecidos\"}, inplace = True)"
   ]
  },
  {
   "cell_type": "code",
   "execution_count": 46,
   "metadata": {},
   "outputs": [],
   "source": [
    "df_days = pd.merge(df_Acum_casos, df_Acum_recovered, how=\"left\", left_on= [\"Numero de Dia\"], right_on=[\"Dia Recuperado\"])\n",
    "df_days = pd.merge(df_days, df_Acum_deceased, how=\"left\", left_on= [\"Numero de Dia\"], right_on=[\"Dia Muerte\"]).fillna(0)\n",
    "df_days.drop([\"Dia Recuperado\",\"Dia Muerte\"], axis=1, inplace = True)"
   ]
  },
  {
   "cell_type": "code",
   "execution_count": 47,
   "metadata": {},
   "outputs": [],
   "source": [
    "df_acum = df_days.copy()"
   ]
  },
  {
   "cell_type": "code",
   "execution_count": 48,
   "metadata": {},
   "outputs": [],
   "source": [
    "df_acum[\"Casos\"] = df_acum[\"Casos\"].cumsum(axis = 0)\n",
    "df_acum[\"Recuperados\"] = df_acum[\"Recuperados\"].cumsum(axis = 0)\n",
    "df_acum[\"Fallecidos\"] = df_acum[\"Fallecidos\"].cumsum(axis = 0)"
   ]
  },
  {
   "cell_type": "code",
   "execution_count": 49,
   "metadata": {},
   "outputs": [
    {
     "data": {
      "text/html": [
       "<div>\n",
       "<style scoped>\n",
       "    .dataframe tbody tr th:only-of-type {\n",
       "        vertical-align: middle;\n",
       "    }\n",
       "\n",
       "    .dataframe tbody tr th {\n",
       "        vertical-align: top;\n",
       "    }\n",
       "\n",
       "    .dataframe thead th {\n",
       "        text-align: right;\n",
       "    }\n",
       "</style>\n",
       "<table border=\"1\" class=\"dataframe\">\n",
       "  <thead>\n",
       "    <tr style=\"text-align: right;\">\n",
       "      <th></th>\n",
       "      <th>Numero de Dia</th>\n",
       "      <th>Casos</th>\n",
       "      <th>Recuperados</th>\n",
       "      <th>Fallecidos</th>\n",
       "    </tr>\n",
       "  </thead>\n",
       "  <tbody>\n",
       "    <tr>\n",
       "      <th>107</th>\n",
       "      <td>110.0</td>\n",
       "      <td>76342</td>\n",
       "      <td>32824.0</td>\n",
       "      <td>2954.0</td>\n",
       "    </tr>\n",
       "    <tr>\n",
       "      <th>108</th>\n",
       "      <td>111.0</td>\n",
       "      <td>79635</td>\n",
       "      <td>34404.0</td>\n",
       "      <td>3011.0</td>\n",
       "    </tr>\n",
       "    <tr>\n",
       "      <th>109</th>\n",
       "      <td>112.0</td>\n",
       "      <td>83906</td>\n",
       "      <td>35652.0</td>\n",
       "      <td>3052.0</td>\n",
       "    </tr>\n",
       "    <tr>\n",
       "      <th>110</th>\n",
       "      <td>113.0</td>\n",
       "      <td>87396</td>\n",
       "      <td>36576.0</td>\n",
       "      <td>3095.0</td>\n",
       "    </tr>\n",
       "    <tr>\n",
       "      <th>111</th>\n",
       "      <td>114.0</td>\n",
       "      <td>89693</td>\n",
       "      <td>38280.0</td>\n",
       "      <td>3106.0</td>\n",
       "    </tr>\n",
       "  </tbody>\n",
       "</table>\n",
       "</div>"
      ],
      "text/plain": [
       "     Numero de Dia  Casos  Recuperados  Fallecidos\n",
       "107          110.0  76342      32824.0      2954.0\n",
       "108          111.0  79635      34404.0      3011.0\n",
       "109          112.0  83906      35652.0      3052.0\n",
       "110          113.0  87396      36576.0      3095.0\n",
       "111          114.0  89693      38280.0      3106.0"
      ]
     },
     "execution_count": 49,
     "metadata": {},
     "output_type": "execute_result"
    }
   ],
   "source": [
    "df_acum.tail()"
   ]
  },
  {
   "cell_type": "markdown",
   "metadata": {},
   "source": [
    "Plot of the log number of cases of the behiave of the virus counting since the first day that someone had the it. "
   ]
  },
  {
   "cell_type": "code",
   "execution_count": 50,
   "metadata": {},
   "outputs": [
    {
     "data": {
      "image/png": "[encoded data removed]",
      "text/plain": [
       "<Figure size 864x432 with 1 Axes>"
      ]
     },
     "metadata": {
      "needs_background": "light"
     },
     "output_type": "display_data"
    }
   ],
   "source": [
    "fig = plt.figure(figsize=(12,6))\n",
    "ax = fig.add_subplot(1, 1, 1)\n",
    "ax.set_yscale('log')\n",
    "\n",
    "plt.plot(df_acum['Numero de Dia'], df_acum['Casos'], label='Positivos Acumulados', color=\"blue\",lw=3)\n",
    "plt.plot(df_acum['Numero de Dia'], df_acum['Recuperados'], label='Recuperados Acumulados', color=\"green\", lw=3)\n",
    "plt.plot(df_acum['Numero de Dia'], df_acum['Fallecidos'], label='Fallecidos Acumulados', color=\"red\", lw=3)\n",
    "\n",
    "ax.legend()\n",
    "plt.xlabel('Dias acontecidos desde el primer caso')\n",
    "plt.ylabel('log(#Cases)')\n",
    "plt.tight_layout()"
   ]
  },
  {
   "cell_type": "markdown",
   "metadata": {},
   "source": [
    "Interactive spread plot of the days since the first day that someone had the virus versus the Number of Cases"
   ]
  },
  {
   "cell_type": "code",
   "execution_count": 51,
   "metadata": {},
   "outputs": [
    {
     "data": {
      "text/html": [
       "        <script type=\"text/javascript\">\n",
       "        window.PlotlyConfig = {MathJaxConfig: 'local'};\n",
       "        if (window.MathJax) {MathJax.Hub.Config({SVG: {font: \"STIX-Web\"}});}\n",
       "        if (typeof require !== 'undefined') {\n",
       "        require.undef(\"plotly\");\n",
       "        requirejs.config({\n",
       "            paths: {\n",
       "                'plotly': ['https://cdn.plot.ly/plotly-latest.min']\n",
       "            }\n",
       "        });\n",
       "        require(['plotly'], function(Plotly) {\n",
       "            window._Plotly = Plotly;\n",
       "        });\n",
       "        }\n",
       "        </script>\n",
       "        "
      ]
     },
     "metadata": {},
     "output_type": "display_data"
    },
    {
     "data": {
      "text/html": [
       "        <script type=\"text/javascript\">\n",
       "        window.PlotlyConfig = {MathJaxConfig: 'local'};\n",
       "        if (window.MathJax) {MathJax.Hub.Config({SVG: {font: \"STIX-Web\"}});}\n",
       "        if (typeof require !== 'undefined') {\n",
       "        require.undef(\"plotly\");\n",
       "        requirejs.config({\n",
       "            paths: {\n",
       "                'plotly': ['https://cdn.plot.ly/plotly-latest.min']\n",
       "            }\n",
       "        });\n",
       "        require(['plotly'], function(Plotly) {\n",
       "            window._Plotly = Plotly;\n",
       "        });\n",
       "        }\n",
       "        </script>\n",
       "        "
      ]
     },
     "metadata": {},
     "output_type": "display_data"
    }
   ],
   "source": [
    "from plotly.offline import download_plotlyjs, init_notebook_mode, plot, iplot\n",
    "import cufflinks as cf\n",
    "import warnings\n",
    "warnings.simplefilter(action='ignore', category=FutureWarning)\n",
    "init_notebook_mode(connected=True)\n",
    "cf.go_offline()"
   ]
  },
  {
   "cell_type": "code",
   "execution_count": 52,
   "metadata": {},
   "outputs": [
    {
     "data": {
      "application/vnd.plotly.v1+json": {
       "config": {
        "linkText": "Export to plot.ly",
        "plotlyServerURL": "https://plot.ly",
        "showLink": true
       },
       "data": [
        {
         "line": {
          "color": "rgba(55, 128, 191, 1.0)",
          "dash": "solid",
          "shape": "linear",
          "width": 4
         },
         "mode": "lines",
         "name": "Casos",
         "text": "",
         "type": "scatter",
         "x": [
          0,
          1,
          2,
          3,
          4,
          5,
          6,
          7,
          8,
          9,
          10,
          11,
          12,
          13,
          14,
          15,
          16,
          17,
          18,
          19,
          20,
          21,
          22,
          23,
          24,
          25,
          26,
          27,
          28,
          29,
          30,
          31,
          32,
          33,
          34,
          35,
          36,
          37,
          38,
          39,
          40,
          41,
          42,
          43,
          44,
          45,
          46,
          47,
          48,
          49,
          50,
          51,
          52,
          53,
          54,
          55,
          56,
          57,
          58,
          59,
          60,
          61,
          62,
          63,
          64,
          65,
          66,
          67,
          68,
          69,
          70,
          71,
          72,
          73,
          74,
          75,
          76,
          77,
          78,
          79,
          80,
          81,
          82,
          83,
          84,
          85,
          86,
          87,
          88,
          89,
          90,
          91,
          92,
          93,
          94,
          95,
          96,
          97,
          98,
          99,
          100,
          101,
          102,
          103,
          104,
          105,
          106,
          107,
          108,
          109,
          110,
          111
         ],
         "y": [
          1,
          3,
          9,
          14,
          19,
          37,
          53,
          67,
          92,
          104,
          130,
          178,
          212,
          241,
          314,
          419,
          480,
          490,
          539,
          608,
          702,
          798,
          905,
          1065,
          1161,
          1266,
          1406,
          1485,
          1579,
          1708,
          2054,
          2223,
          2474,
          2709,
          2776,
          2852,
          2978,
          3103,
          3231,
          3436,
          3619,
          3794,
          3976,
          4147,
          4340,
          4535,
          4839,
          5101,
          5338,
          5556,
          5910,
          6171,
          6467,
          6968,
          7246,
          7668,
          7975,
          8616,
          8963,
          9460,
          10055,
          10498,
          11066,
          11617,
          12275,
          12934,
          13615,
          14221,
          14946,
          15585,
          16303,
          16944,
          17721,
          18366,
          19171,
          20188,
          21190,
          21992,
          23017,
          24120,
          25378,
          26704,
          28254,
          29399,
          30528,
          31819,
          33331,
          35051,
          36520,
          37875,
          39086,
          40546,
          41917,
          43532,
          45462,
          46708,
          48870,
          51102,
          52730,
          54986,
          56514,
          59529,
          62561,
          64978,
          67975,
          70885,
          73871,
          76342,
          79635,
          83906,
          87396,
          89693
         ]
        },
        {
         "line": {
          "color": "rgba(0, 128, 0, 1.0)",
          "dash": "solid",
          "shape": "linear",
          "width": 4
         },
         "mode": "lines",
         "name": "Recuperados",
         "text": "",
         "type": "scatter",
         "x": [
          0,
          1,
          2,
          3,
          4,
          5,
          6,
          7,
          8,
          9,
          10,
          11,
          12,
          13,
          14,
          15,
          16,
          17,
          18,
          19,
          20,
          21,
          22,
          23,
          24,
          25,
          26,
          27,
          28,
          29,
          30,
          31,
          32,
          33,
          34,
          35,
          36,
          37,
          38,
          39,
          40,
          41,
          42,
          43,
          44,
          45,
          46,
          47,
          48,
          49,
          50,
          51,
          52,
          53,
          54,
          55,
          56,
          57,
          58,
          59,
          60,
          61,
          62,
          63,
          64,
          65,
          66,
          67,
          68,
          69,
          70,
          71,
          72,
          73,
          74,
          75,
          76,
          77,
          78,
          79,
          80,
          81,
          82,
          83,
          84,
          85,
          86,
          87,
          88,
          89,
          90,
          91,
          92,
          93,
          94,
          95,
          96,
          97,
          98,
          99,
          100,
          101,
          102,
          103,
          104,
          105,
          106,
          107,
          108,
          109,
          110,
          111
         ],
         "y": [
          0,
          0,
          0,
          0,
          1,
          2,
          3,
          3,
          4,
          4,
          5,
          7,
          11,
          14,
          23,
          34,
          47,
          64,
          82,
          114,
          143,
          178,
          207,
          240,
          273,
          309,
          350,
          371,
          396,
          422,
          466,
          511,
          560,
          614,
          708,
          805,
          885,
          983,
          1058,
          1111,
          1167,
          1240,
          1324,
          1409,
          1497,
          1601,
          1690,
          1793,
          1886,
          1976,
          2081,
          2210,
          2271,
          2384,
          2508,
          2605,
          2744,
          3043,
          3264,
          3420,
          3576,
          3769,
          3929,
          4152,
          4292,
          4516,
          4650,
          4855,
          5057,
          5201,
          5394,
          5588,
          5838,
          6118,
          6382,
          6595,
          6897,
          7179,
          7533,
          7861,
          8226,
          8560,
          8778,
          10647,
          10982,
          12399,
          13457,
          14126,
          15064,
          15540,
          16531,
          17629,
          18133,
          19221,
          19817,
          20657,
          21326,
          21758,
          22047,
          22475,
          23446,
          24541,
          25881,
          27290,
          29049,
          30425,
          31710,
          32824,
          34404,
          35652,
          36576,
          38280
         ]
        },
        {
         "line": {
          "color": "rgba(219, 64, 82, 1.0)",
          "dash": "solid",
          "shape": "linear",
          "width": 4
         },
         "mode": "lines",
         "name": "Fallecidos",
         "text": "",
         "type": "scatter",
         "x": [
          0,
          1,
          2,
          3,
          4,
          5,
          6,
          7,
          8,
          9,
          10,
          11,
          12,
          13,
          14,
          15,
          16,
          17,
          18,
          19,
          20,
          21,
          22,
          23,
          24,
          25,
          26,
          27,
          28,
          29,
          30,
          31,
          32,
          33,
          34,
          35,
          36,
          37,
          38,
          39,
          40,
          41,
          42,
          43,
          44,
          45,
          46,
          47,
          48,
          49,
          50,
          51,
          52,
          53,
          54,
          55,
          56,
          57,
          58,
          59,
          60,
          61,
          62,
          63,
          64,
          65,
          66,
          67,
          68,
          69,
          70,
          71,
          72,
          73,
          74,
          75,
          76,
          77,
          78,
          79,
          80,
          81,
          82,
          83,
          84,
          85,
          86,
          87,
          88,
          89,
          90,
          91,
          92,
          93,
          94,
          95,
          96,
          97,
          98,
          99,
          100,
          101,
          102,
          103,
          104,
          105,
          106,
          107,
          108,
          109,
          110,
          111
         ],
         "y": [
          0,
          0,
          0,
          0,
          0,
          0,
          0,
          1,
          1,
          1,
          1,
          1,
          1,
          2,
          3,
          4,
          8,
          10,
          13,
          18,
          19,
          24,
          29,
          33,
          40,
          53,
          68,
          76,
          88,
          96,
          101,
          113,
          118,
          126,
          138,
          145,
          156,
          168,
          184,
          188,
          200,
          209,
          218,
          227,
          235,
          244,
          259,
          269,
          287,
          298,
          309,
          328,
          349,
          360,
          379,
          397,
          418,
          437,
          460,
          485,
          502,
          519,
          537,
          563,
          574,
          588,
          606,
          627,
          646,
          666,
          692,
          721,
          752,
          777,
          816,
          856,
          895,
          922,
          966,
          996,
          1034,
          1080,
          1130,
          1175,
          1223,
          1275,
          1350,
          1405,
          1472,
          1530,
          1593,
          1659,
          1730,
          1790,
          1860,
          1933,
          2001,
          2100,
          2183,
          2271,
          2362,
          2449,
          2531,
          2606,
          2699,
          2795,
          2877,
          2954,
          3011,
          3052,
          3095,
          3106
         ]
        },
        {
         "connectgaps": false,
         "fill": "tozeroy",
         "line": {
          "color": "green",
          "dash": "solid",
          "shape": "linear",
          "width": 0.5
         },
         "mode": "lines",
         "name": "Spread",
         "showlegend": false,
         "type": "scatter",
         "x": [
          0,
          1,
          2,
          3,
          4,
          5,
          6,
          7,
          8,
          9,
          10,
          11,
          12,
          13,
          14,
          15,
          16,
          17,
          18,
          19,
          20,
          21,
          22,
          23,
          24,
          25,
          26,
          27,
          28,
          29,
          30,
          31,
          32,
          33,
          34,
          35,
          36,
          37,
          38,
          39,
          40,
          41,
          42,
          43,
          44,
          45,
          46,
          47,
          48,
          49,
          50,
          51,
          52,
          53,
          54,
          55,
          56,
          57,
          58,
          59,
          60,
          61,
          62,
          63,
          64,
          65,
          66,
          67,
          68,
          69,
          70,
          71,
          72,
          73,
          74,
          75,
          76,
          77,
          78,
          79,
          80,
          81,
          82,
          83,
          84,
          85,
          86,
          87,
          88,
          89,
          90,
          91,
          92,
          93,
          94,
          95,
          96,
          97,
          98,
          99,
          100,
          101,
          102,
          103,
          104,
          105,
          106,
          107,
          108,
          109,
          110,
          111
         ],
         "xaxis": "x2",
         "y": [
          1,
          3,
          9,
          14,
          18,
          35,
          50,
          64,
          88,
          100,
          125,
          171,
          201,
          227,
          291,
          385,
          433,
          426,
          457,
          494,
          559,
          620,
          698,
          825,
          888,
          957,
          1056,
          1114,
          1183,
          1286,
          1588,
          1712,
          1914,
          2095,
          2068,
          2047,
          2093,
          2120,
          2173,
          2325,
          2452,
          2554,
          2652,
          2738,
          2843,
          2934,
          3149,
          3308,
          3452,
          3580,
          3829,
          3961,
          4196,
          4584,
          4738,
          5063,
          5231,
          5573,
          5699,
          6040,
          6479,
          6729,
          7137,
          7465,
          7983,
          8418,
          8965,
          9366,
          9889,
          10384,
          10909,
          11356,
          11883,
          12248,
          12789,
          13593,
          14293,
          14813,
          15484,
          16259,
          17152,
          18144,
          19476,
          18752,
          19546,
          19420,
          19874,
          20925,
          21456,
          22335,
          22555,
          22917,
          23784,
          24311,
          25645,
          26051,
          27544,
          29344,
          30683,
          32511,
          33068,
          34988,
          36680,
          37688,
          38926,
          40460,
          42161,
          43518,
          45231,
          48254,
          50820,
          51413
         ],
         "yaxis": "y2"
        },
        {
         "connectgaps": false,
         "fill": "tozeroy",
         "line": {
          "color": "red",
          "dash": "solid",
          "shape": "linear",
          "width": 0.5
         },
         "mode": "lines",
         "name": "Spread",
         "showlegend": false,
         "type": "scatter",
         "x": [
          0,
          1,
          2,
          3,
          4,
          5,
          6,
          7,
          8,
          9,
          10,
          11,
          12,
          13,
          14,
          15,
          16,
          17,
          18,
          19,
          20,
          21,
          22,
          23,
          24,
          25,
          26,
          27,
          28,
          29,
          30,
          31,
          32,
          33,
          34,
          35,
          36,
          37,
          38,
          39,
          40,
          41,
          42,
          43,
          44,
          45,
          46,
          47,
          48,
          49,
          50,
          51,
          52,
          53,
          54,
          55,
          56,
          57,
          58,
          59,
          60,
          61,
          62,
          63,
          64,
          65,
          66,
          67,
          68,
          69,
          70,
          71,
          72,
          73,
          74,
          75,
          76,
          77,
          78,
          79,
          80,
          81,
          82,
          83,
          84,
          85,
          86,
          87,
          88,
          89,
          90,
          91,
          92,
          93,
          94,
          95,
          96,
          97,
          98,
          99,
          100,
          101,
          102,
          103,
          104,
          105,
          106,
          107,
          108,
          109,
          110,
          111
         ],
         "xaxis": "x2",
         "y": [
          "",
          "",
          "",
          "",
          "",
          "",
          "",
          "",
          "",
          "",
          "",
          "",
          "",
          "",
          "",
          "",
          "",
          "",
          "",
          "",
          "",
          "",
          "",
          "",
          "",
          "",
          "",
          "",
          "",
          "",
          "",
          "",
          "",
          "",
          "",
          "",
          "",
          "",
          "",
          "",
          "",
          "",
          "",
          "",
          "",
          "",
          "",
          "",
          "",
          "",
          "",
          "",
          "",
          "",
          "",
          "",
          "",
          "",
          "",
          "",
          "",
          "",
          "",
          "",
          "",
          "",
          "",
          "",
          "",
          "",
          "",
          "",
          "",
          "",
          "",
          "",
          "",
          "",
          "",
          "",
          "",
          "",
          "",
          "",
          "",
          "",
          "",
          "",
          "",
          "",
          "",
          "",
          "",
          "",
          "",
          "",
          "",
          "",
          "",
          "",
          "",
          "",
          "",
          "",
          "",
          "",
          "",
          "",
          "",
          "",
          "",
          ""
         ],
         "yaxis": "y2"
        }
       ],
       "layout": {
        "hovermode": "x",
        "legend": {
         "bgcolor": "#F5F6F9",
         "font": {
          "color": "#4D5663"
         }
        },
        "paper_bgcolor": "#F5F6F9",
        "plot_bgcolor": "#F5F6F9",
        "template": {
         "data": {
          "bar": [
           {
            "error_x": {
             "color": "#2a3f5f"
            },
            "error_y": {
             "color": "#2a3f5f"
            },
            "marker": {
             "line": {
              "color": "#E5ECF6",
              "width": 0.5
             }
            },
            "type": "bar"
           }
          ],
          "barpolar": [
           {
            "marker": {
             "line": {
              "color": "#E5ECF6",
              "width": 0.5
             }
            },
            "type": "barpolar"
           }
          ],
          "carpet": [
           {
            "aaxis": {
             "endlinecolor": "#2a3f5f",
             "gridcolor": "white",
             "linecolor": "white",
             "minorgridcolor": "white",
             "startlinecolor": "#2a3f5f"
            },
            "baxis": {
             "endlinecolor": "#2a3f5f",
             "gridcolor": "white",
             "linecolor": "white",
             "minorgridcolor": "white",
             "startlinecolor": "#2a3f5f"
            },
            "type": "carpet"
           }
          ],
          "choropleth": [
           {
            "colorbar": {
             "outlinewidth": 0,
             "ticks": ""
            },
            "type": "choropleth"
           }
          ],
          "contour": [
           {
            "colorbar": {
             "outlinewidth": 0,
             "ticks": ""
            },
            "colorscale": [
             [
              0,
              "#0d0887"
             ],
             [
              0.1111111111111111,
              "#46039f"
             ],
             [
              0.2222222222222222,
              "#7201a8"
             ],
             [
              0.3333333333333333,
              "#9c179e"
             ],
             [
              0.4444444444444444,
              "#bd3786"
             ],
             [
              0.5555555555555556,
              "#d8576b"
             ],
             [
              0.6666666666666666,
              "#ed7953"
             ],
             [
              0.7777777777777778,
              "#fb9f3a"
             ],
             [
              0.8888888888888888,
              "#fdca26"
             ],
             [
              1,
              "#f0f921"
             ]
            ],
            "type": "contour"
           }
          ],
          "contourcarpet": [
           {
            "colorbar": {
             "outlinewidth": 0,
             "ticks": ""
            },
            "type": "contourcarpet"
           }
          ],
          "heatmap": [
           {
            "colorbar": {
             "outlinewidth": 0,
             "ticks": ""
            },
            "colorscale": [
             [
              0,
              "#0d0887"
             ],
             [
              0.1111111111111111,
              "#46039f"
             ],
             [
              0.2222222222222222,
              "#7201a8"
             ],
             [
              0.3333333333333333,
              "#9c179e"
             ],
             [
              0.4444444444444444,
              "#bd3786"
             ],
             [
              0.5555555555555556,
              "#d8576b"
             ],
             [
              0.6666666666666666,
              "#ed7953"
             ],
             [
              0.7777777777777778,
              "#fb9f3a"
             ],
             [
              0.8888888888888888,
              "#fdca26"
             ],
             [
              1,
              "#f0f921"
             ]
            ],
            "type": "heatmap"
           }
          ],
          "heatmapgl": [
           {
            "colorbar": {
             "outlinewidth": 0,
             "ticks": ""
            },
            "colorscale": [
             [
              0,
              "#0d0887"
             ],
             [
              0.1111111111111111,
              "#46039f"
             ],
             [
              0.2222222222222222,
              "#7201a8"
             ],
             [
              0.3333333333333333,
              "#9c179e"
             ],
             [
              0.4444444444444444,
              "#bd3786"
             ],
             [
              0.5555555555555556,
              "#d8576b"
             ],
             [
              0.6666666666666666,
              "#ed7953"
             ],
             [
              0.7777777777777778,
              "#fb9f3a"
             ],
             [
              0.8888888888888888,
              "#fdca26"
             ],
             [
              1,
              "#f0f921"
             ]
            ],
            "type": "heatmapgl"
           }
          ],
          "histogram": [
           {
            "marker": {
             "colorbar": {
              "outlinewidth": 0,
              "ticks": ""
             }
            },
            "type": "histogram"
           }
          ],
          "histogram2d": [
           {
            "colorbar": {
             "outlinewidth": 0,
             "ticks": ""
            },
            "colorscale": [
             [
              0,
              "#0d0887"
             ],
             [
              0.1111111111111111,
              "#46039f"
             ],
             [
              0.2222222222222222,
              "#7201a8"
             ],
             [
              0.3333333333333333,
              "#9c179e"
             ],
             [
              0.4444444444444444,
              "#bd3786"
             ],
             [
              0.5555555555555556,
              "#d8576b"
             ],
             [
              0.6666666666666666,
              "#ed7953"
             ],
             [
              0.7777777777777778,
              "#fb9f3a"
             ],
             [
              0.8888888888888888,
              "#fdca26"
             ],
             [
              1,
              "#f0f921"
             ]
            ],
            "type": "histogram2d"
           }
          ],
          "histogram2dcontour": [
           {
            "colorbar": {
             "outlinewidth": 0,
             "ticks": ""
            },
            "colorscale": [
             [
              0,
              "#0d0887"
             ],
             [
              0.1111111111111111,
              "#46039f"
             ],
             [
              0.2222222222222222,
              "#7201a8"
             ],
             [
              0.3333333333333333,
              "#9c179e"
             ],
             [
              0.4444444444444444,
              "#bd3786"
             ],
             [
              0.5555555555555556,
              "#d8576b"
             ],
             [
              0.6666666666666666,
              "#ed7953"
             ],
             [
              0.7777777777777778,
              "#fb9f3a"
             ],
             [
              0.8888888888888888,
              "#fdca26"
             ],
             [
              1,
              "#f0f921"
             ]
            ],
            "type": "histogram2dcontour"
           }
          ],
          "mesh3d": [
           {
            "colorbar": {
             "outlinewidth": 0,
             "ticks": ""
            },
            "type": "mesh3d"
           }
          ],
          "parcoords": [
           {
            "line": {
             "colorbar": {
              "outlinewidth": 0,
              "ticks": ""
             }
            },
            "type": "parcoords"
           }
          ],
          "pie": [
           {
            "automargin": true,
            "type": "pie"
           }
          ],
          "scatter": [
           {
            "marker": {
             "colorbar": {
              "outlinewidth": 0,
              "ticks": ""
             }
            },
            "type": "scatter"
           }
          ],
          "scatter3d": [
           {
            "line": {
             "colorbar": {
              "outlinewidth": 0,
              "ticks": ""
             }
            },
            "marker": {
             "colorbar": {
              "outlinewidth": 0,
              "ticks": ""
             }
            },
            "type": "scatter3d"
           }
          ],
          "scattercarpet": [
           {
            "marker": {
             "colorbar": {
              "outlinewidth": 0,
              "ticks": ""
             }
            },
            "type": "scattercarpet"
           }
          ],
          "scattergeo": [
           {
            "marker": {
             "colorbar": {
              "outlinewidth": 0,
              "ticks": ""
             }
            },
            "type": "scattergeo"
           }
          ],
          "scattergl": [
           {
            "marker": {
             "colorbar": {
              "outlinewidth": 0,
              "ticks": ""
             }
            },
            "type": "scattergl"
           }
          ],
          "scattermapbox": [
           {
            "marker": {
             "colorbar": {
              "outlinewidth": 0,
              "ticks": ""
             }
            },
            "type": "scattermapbox"
           }
          ],
          "scatterpolar": [
           {
            "marker": {
             "colorbar": {
              "outlinewidth": 0,
              "ticks": ""
             }
            },
            "type": "scatterpolar"
           }
          ],
          "scatterpolargl": [
           {
            "marker": {
             "colorbar": {
              "outlinewidth": 0,
              "ticks": ""
             }
            },
            "type": "scatterpolargl"
           }
          ],
          "scatterternary": [
           {
            "marker": {
             "colorbar": {
              "outlinewidth": 0,
              "ticks": ""
             }
            },
            "type": "scatterternary"
           }
          ],
          "surface": [
           {
            "colorbar": {
             "outlinewidth": 0,
             "ticks": ""
            },
            "colorscale": [
             [
              0,
              "#0d0887"
             ],
             [
              0.1111111111111111,
              "#46039f"
             ],
             [
              0.2222222222222222,
              "#7201a8"
             ],
             [
              0.3333333333333333,
              "#9c179e"
             ],
             [
              0.4444444444444444,
              "#bd3786"
             ],
             [
              0.5555555555555556,
              "#d8576b"
             ],
             [
              0.6666666666666666,
              "#ed7953"
             ],
             [
              0.7777777777777778,
              "#fb9f3a"
             ],
             [
              0.8888888888888888,
              "#fdca26"
             ],
             [
              1,
              "#f0f921"
             ]
            ],
            "type": "surface"
           }
          ],
          "table": [
           {
            "cells": {
             "fill": {
              "color": "#EBF0F8"
             },
             "line": {
              "color": "white"
             }
            },
            "header": {
             "fill": {
              "color": "#C8D4E3"
             },
             "line": {
              "color": "white"
             }
            },
            "type": "table"
           }
          ]
         },
         "layout": {
          "annotationdefaults": {
           "arrowcolor": "#2a3f5f",
           "arrowhead": 0,
           "arrowwidth": 1
          },
          "coloraxis": {
           "colorbar": {
            "outlinewidth": 0,
            "ticks": ""
           }
          },
          "colorscale": {
           "diverging": [
            [
             0,
             "#8e0152"
            ],
            [
             0.1,
             "#c51b7d"
            ],
            [
             0.2,
             "#de77ae"
            ],
            [
             0.3,
             "#f1b6da"
            ],
            [
             0.4,
             "#fde0ef"
            ],
            [
             0.5,
             "#f7f7f7"
            ],
            [
             0.6,
             "#e6f5d0"
            ],
            [
             0.7,
             "#b8e186"
            ],
            [
             0.8,
             "#7fbc41"
            ],
            [
             0.9,
             "#4d9221"
            ],
            [
             1,
             "#276419"
            ]
           ],
           "sequential": [
            [
             0,
             "#0d0887"
            ],
            [
             0.1111111111111111,
             "#46039f"
            ],
            [
             0.2222222222222222,
             "#7201a8"
            ],
            [
             0.3333333333333333,
             "#9c179e"
            ],
            [
             0.4444444444444444,
             "#bd3786"
            ],
            [
             0.5555555555555556,
             "#d8576b"
            ],
            [
             0.6666666666666666,
             "#ed7953"
            ],
            [
             0.7777777777777778,
             "#fb9f3a"
            ],
            [
             0.8888888888888888,
             "#fdca26"
            ],
            [
             1,
             "#f0f921"
            ]
           ],
           "sequentialminus": [
            [
             0,
             "#0d0887"
            ],
            [
             0.1111111111111111,
             "#46039f"
            ],
            [
             0.2222222222222222,
             "#7201a8"
            ],
            [
             0.3333333333333333,
             "#9c179e"
            ],
            [
             0.4444444444444444,
             "#bd3786"
            ],
            [
             0.5555555555555556,
             "#d8576b"
            ],
            [
             0.6666666666666666,
             "#ed7953"
            ],
            [
             0.7777777777777778,
             "#fb9f3a"
            ],
            [
             0.8888888888888888,
             "#fdca26"
            ],
            [
             1,
             "#f0f921"
            ]
           ]
          },
          "colorway": [
           "#636efa",
           "#EF553B",
           "#00cc96",
           "#ab63fa",
           "#FFA15A",
           "#19d3f3",
           "#FF6692",
           "#B6E880",
           "#FF97FF",
           "#FECB52"
          ],
          "font": {
           "color": "#2a3f5f"
          },
          "geo": {
           "bgcolor": "white",
           "lakecolor": "white",
           "landcolor": "#E5ECF6",
           "showlakes": true,
           "showland": true,
           "subunitcolor": "white"
          },
          "hoverlabel": {
           "align": "left"
          },
          "hovermode": "closest",
          "mapbox": {
           "style": "light"
          },
          "paper_bgcolor": "white",
          "plot_bgcolor": "#E5ECF6",
          "polar": {
           "angularaxis": {
            "gridcolor": "white",
            "linecolor": "white",
            "ticks": ""
           },
           "bgcolor": "#E5ECF6",
           "radialaxis": {
            "gridcolor": "white",
            "linecolor": "white",
            "ticks": ""
           }
          },
          "scene": {
           "xaxis": {
            "backgroundcolor": "#E5ECF6",
            "gridcolor": "white",
            "gridwidth": 2,
            "linecolor": "white",
            "showbackground": true,
            "ticks": "",
            "zerolinecolor": "white"
           },
           "yaxis": {
            "backgroundcolor": "#E5ECF6",
            "gridcolor": "white",
            "gridwidth": 2,
            "linecolor": "white",
            "showbackground": true,
            "ticks": "",
            "zerolinecolor": "white"
           },
           "zaxis": {
            "backgroundcolor": "#E5ECF6",
            "gridcolor": "white",
            "gridwidth": 2,
            "linecolor": "white",
            "showbackground": true,
            "ticks": "",
            "zerolinecolor": "white"
           }
          },
          "shapedefaults": {
           "line": {
            "color": "#2a3f5f"
           }
          },
          "ternary": {
           "aaxis": {
            "gridcolor": "white",
            "linecolor": "white",
            "ticks": ""
           },
           "baxis": {
            "gridcolor": "white",
            "linecolor": "white",
            "ticks": ""
           },
           "bgcolor": "#E5ECF6",
           "caxis": {
            "gridcolor": "white",
            "linecolor": "white",
            "ticks": ""
           }
          },
          "title": {
           "x": 0.05
          },
          "xaxis": {
           "automargin": true,
           "gridcolor": "white",
           "linecolor": "white",
           "ticks": "",
           "title": {
            "standoff": 15
           },
           "zerolinecolor": "white",
           "zerolinewidth": 2
          },
          "yaxis": {
           "automargin": true,
           "gridcolor": "white",
           "linecolor": "white",
           "ticks": "",
           "title": {
            "standoff": 15
           },
           "zerolinecolor": "white",
           "zerolinewidth": 2
          }
         }
        },
        "title": {
         "font": {
          "color": "#4D5663"
         }
        },
        "xaxis": {
         "gridcolor": "#E1E5ED",
         "showgrid": true,
         "tickfont": {
          "color": "#4D5663"
         },
         "title": {
          "font": {
           "color": "#4D5663"
          },
          "text": "Dias acontecidos desde el primer caso"
         },
         "zerolinecolor": "#E1E5ED"
        },
        "xaxis2": {
         "anchor": "y2",
         "gridcolor": "#E1E5ED",
         "showgrid": true,
         "showticklabels": false,
         "tickfont": {
          "color": "#4D5663"
         },
         "title": {
          "font": {
           "color": "#4D5663"
          },
          "text": "Dias acontecidos desde el primer caso"
         },
         "zerolinecolor": "#E1E5ED"
        },
        "yaxis": {
         "domain": [
          0.3,
          1
         ],
         "gridcolor": "#E1E5ED",
         "showgrid": true,
         "tickfont": {
          "color": "#4D5663"
         },
         "title": {
          "font": {
           "color": "#4D5663"
          },
          "text": "Numero de Casos (Acumulados)"
         },
         "zerolinecolor": "#E1E5ED"
        },
        "yaxis2": {
         "domain": [
          0,
          0.25
         ],
         "gridcolor": "#E1E5ED",
         "showgrid": true,
         "tickfont": {
          "color": "#4D5663"
         },
         "title": {
          "font": {
           "color": "#4D5663"
          },
          "text": "Spread"
         },
         "zerolinecolor": "#E1E5ED"
        }
       }
      },
      "text/html": [
       "<div>\n",
       "        \n",
       "        \n",
       "            <div id=\"200fbc8e-51a0-4042-a9cb-732da556977f\" class=\"plotly-graph-div\" style=\"height:525px; width:100%;\"></div>\n",
       "            <script type=\"text/javascript\">\n",
       "                require([\"plotly\"], function(Plotly) {\n",
       "                    window.PLOTLYENV=window.PLOTLYENV || {};\n",
       "                    window.PLOTLYENV.BASE_URL='https://plot.ly';\n",
       "                    \n",
       "                if (document.getElementById(\"200fbc8e-51a0-4042-a9cb-732da556977f\")) {\n",
       "                    Plotly.newPlot(\n",
       "                        '200fbc8e-51a0-4042-a9cb-732da556977f',\n",
       "                        [{\"line\": {\"color\": \"rgba(55, 128, 191, 1.0)\", \"dash\": \"solid\", \"shape\": \"linear\", \"width\": 4}, \"mode\": \"lines\", \"name\": \"Casos\", \"text\": \"\", \"type\": \"scatter\", \"x\": [0, 1, 2, 3, 4, 5, 6, 7, 8, 9, 10, 11, 12, 13, 14, 15, 16, 17, 18, 19, 20, 21, 22, 23, 24, 25, 26, 27, 28, 29, 30, 31, 32, 33, 34, 35, 36, 37, 38, 39, 40, 41, 42, 43, 44, 45, 46, 47, 48, 49, 50, 51, 52, 53, 54, 55, 56, 57, 58, 59, 60, 61, 62, 63, 64, 65, 66, 67, 68, 69, 70, 71, 72, 73, 74, 75, 76, 77, 78, 79, 80, 81, 82, 83, 84, 85, 86, 87, 88, 89, 90, 91, 92, 93, 94, 95, 96, 97, 98, 99, 100, 101, 102, 103, 104, 105, 106, 107, 108, 109, 110, 111], \"y\": [1, 3, 9, 14, 19, 37, 53, 67, 92, 104, 130, 178, 212, 241, 314, 419, 480, 490, 539, 608, 702, 798, 905, 1065, 1161, 1266, 1406, 1485, 1579, 1708, 2054, 2223, 2474, 2709, 2776, 2852, 2978, 3103, 3231, 3436, 3619, 3794, 3976, 4147, 4340, 4535, 4839, 5101, 5338, 5556, 5910, 6171, 6467, 6968, 7246, 7668, 7975, 8616, 8963, 9460, 10055, 10498, 11066, 11617, 12275, 12934, 13615, 14221, 14946, 15585, 16303, 16944, 17721, 18366, 19171, 20188, 21190, 21992, 23017, 24120, 25378, 26704, 28254, 29399, 30528, 31819, 33331, 35051, 36520, 37875, 39086, 40546, 41917, 43532, 45462, 46708, 48870, 51102, 52730, 54986, 56514, 59529, 62561, 64978, 67975, 70885, 73871, 76342, 79635, 83906, 87396, 89693]}, {\"line\": {\"color\": \"rgba(0, 128, 0, 1.0)\", \"dash\": \"solid\", \"shape\": \"linear\", \"width\": 4}, \"mode\": \"lines\", \"name\": \"Recuperados\", \"text\": \"\", \"type\": \"scatter\", \"x\": [0, 1, 2, 3, 4, 5, 6, 7, 8, 9, 10, 11, 12, 13, 14, 15, 16, 17, 18, 19, 20, 21, 22, 23, 24, 25, 26, 27, 28, 29, 30, 31, 32, 33, 34, 35, 36, 37, 38, 39, 40, 41, 42, 43, 44, 45, 46, 47, 48, 49, 50, 51, 52, 53, 54, 55, 56, 57, 58, 59, 60, 61, 62, 63, 64, 65, 66, 67, 68, 69, 70, 71, 72, 73, 74, 75, 76, 77, 78, 79, 80, 81, 82, 83, 84, 85, 86, 87, 88, 89, 90, 91, 92, 93, 94, 95, 96, 97, 98, 99, 100, 101, 102, 103, 104, 105, 106, 107, 108, 109, 110, 111], \"y\": [0.0, 0.0, 0.0, 0.0, 1.0, 2.0, 3.0, 3.0, 4.0, 4.0, 5.0, 7.0, 11.0, 14.0, 23.0, 34.0, 47.0, 64.0, 82.0, 114.0, 143.0, 178.0, 207.0, 240.0, 273.0, 309.0, 350.0, 371.0, 396.0, 422.0, 466.0, 511.0, 560.0, 614.0, 708.0, 805.0, 885.0, 983.0, 1058.0, 1111.0, 1167.0, 1240.0, 1324.0, 1409.0, 1497.0, 1601.0, 1690.0, 1793.0, 1886.0, 1976.0, 2081.0, 2210.0, 2271.0, 2384.0, 2508.0, 2605.0, 2744.0, 3043.0, 3264.0, 3420.0, 3576.0, 3769.0, 3929.0, 4152.0, 4292.0, 4516.0, 4650.0, 4855.0, 5057.0, 5201.0, 5394.0, 5588.0, 5838.0, 6118.0, 6382.0, 6595.0, 6897.0, 7179.0, 7533.0, 7861.0, 8226.0, 8560.0, 8778.0, 10647.0, 10982.0, 12399.0, 13457.0, 14126.0, 15064.0, 15540.0, 16531.0, 17629.0, 18133.0, 19221.0, 19817.0, 20657.0, 21326.0, 21758.0, 22047.0, 22475.0, 23446.0, 24541.0, 25881.0, 27290.0, 29049.0, 30425.0, 31710.0, 32824.0, 34404.0, 35652.0, 36576.0, 38280.0]}, {\"line\": {\"color\": \"rgba(219, 64, 82, 1.0)\", \"dash\": \"solid\", \"shape\": \"linear\", \"width\": 4}, \"mode\": \"lines\", \"name\": \"Fallecidos\", \"text\": \"\", \"type\": \"scatter\", \"x\": [0, 1, 2, 3, 4, 5, 6, 7, 8, 9, 10, 11, 12, 13, 14, 15, 16, 17, 18, 19, 20, 21, 22, 23, 24, 25, 26, 27, 28, 29, 30, 31, 32, 33, 34, 35, 36, 37, 38, 39, 40, 41, 42, 43, 44, 45, 46, 47, 48, 49, 50, 51, 52, 53, 54, 55, 56, 57, 58, 59, 60, 61, 62, 63, 64, 65, 66, 67, 68, 69, 70, 71, 72, 73, 74, 75, 76, 77, 78, 79, 80, 81, 82, 83, 84, 85, 86, 87, 88, 89, 90, 91, 92, 93, 94, 95, 96, 97, 98, 99, 100, 101, 102, 103, 104, 105, 106, 107, 108, 109, 110, 111], \"y\": [0.0, 0.0, 0.0, 0.0, 0.0, 0.0, 0.0, 1.0, 1.0, 1.0, 1.0, 1.0, 1.0, 2.0, 3.0, 4.0, 8.0, 10.0, 13.0, 18.0, 19.0, 24.0, 29.0, 33.0, 40.0, 53.0, 68.0, 76.0, 88.0, 96.0, 101.0, 113.0, 118.0, 126.0, 138.0, 145.0, 156.0, 168.0, 184.0, 188.0, 200.0, 209.0, 218.0, 227.0, 235.0, 244.0, 259.0, 269.0, 287.0, 298.0, 309.0, 328.0, 349.0, 360.0, 379.0, 397.0, 418.0, 437.0, 460.0, 485.0, 502.0, 519.0, 537.0, 563.0, 574.0, 588.0, 606.0, 627.0, 646.0, 666.0, 692.0, 721.0, 752.0, 777.0, 816.0, 856.0, 895.0, 922.0, 966.0, 996.0, 1034.0, 1080.0, 1130.0, 1175.0, 1223.0, 1275.0, 1350.0, 1405.0, 1472.0, 1530.0, 1593.0, 1659.0, 1730.0, 1790.0, 1860.0, 1933.0, 2001.0, 2100.0, 2183.0, 2271.0, 2362.0, 2449.0, 2531.0, 2606.0, 2699.0, 2795.0, 2877.0, 2954.0, 3011.0, 3052.0, 3095.0, 3106.0]}, {\"connectgaps\": false, \"fill\": \"tozeroy\", \"line\": {\"color\": \"green\", \"dash\": \"solid\", \"shape\": \"linear\", \"width\": 0.5}, \"mode\": \"lines\", \"name\": \"Spread\", \"showlegend\": false, \"type\": \"scatter\", \"x\": [0, 1, 2, 3, 4, 5, 6, 7, 8, 9, 10, 11, 12, 13, 14, 15, 16, 17, 18, 19, 20, 21, 22, 23, 24, 25, 26, 27, 28, 29, 30, 31, 32, 33, 34, 35, 36, 37, 38, 39, 40, 41, 42, 43, 44, 45, 46, 47, 48, 49, 50, 51, 52, 53, 54, 55, 56, 57, 58, 59, 60, 61, 62, 63, 64, 65, 66, 67, 68, 69, 70, 71, 72, 73, 74, 75, 76, 77, 78, 79, 80, 81, 82, 83, 84, 85, 86, 87, 88, 89, 90, 91, 92, 93, 94, 95, 96, 97, 98, 99, 100, 101, 102, 103, 104, 105, 106, 107, 108, 109, 110, 111], \"xaxis\": \"x2\", \"y\": [1.0, 3.0, 9.0, 14.0, 18.0, 35.0, 50.0, 64.0, 88.0, 100.0, 125.0, 171.0, 201.0, 227.0, 291.0, 385.0, 433.0, 426.0, 457.0, 494.0, 559.0, 620.0, 698.0, 825.0, 888.0, 957.0, 1056.0, 1114.0, 1183.0, 1286.0, 1588.0, 1712.0, 1914.0, 2095.0, 2068.0, 2047.0, 2093.0, 2120.0, 2173.0, 2325.0, 2452.0, 2554.0, 2652.0, 2738.0, 2843.0, 2934.0, 3149.0, 3308.0, 3452.0, 3580.0, 3829.0, 3961.0, 4196.0, 4584.0, 4738.0, 5063.0, 5231.0, 5573.0, 5699.0, 6040.0, 6479.0, 6729.0, 7137.0, 7465.0, 7983.0, 8418.0, 8965.0, 9366.0, 9889.0, 10384.0, 10909.0, 11356.0, 11883.0, 12248.0, 12789.0, 13593.0, 14293.0, 14813.0, 15484.0, 16259.0, 17152.0, 18144.0, 19476.0, 18752.0, 19546.0, 19420.0, 19874.0, 20925.0, 21456.0, 22335.0, 22555.0, 22917.0, 23784.0, 24311.0, 25645.0, 26051.0, 27544.0, 29344.0, 30683.0, 32511.0, 33068.0, 34988.0, 36680.0, 37688.0, 38926.0, 40460.0, 42161.0, 43518.0, 45231.0, 48254.0, 50820.0, 51413.0], \"yaxis\": \"y2\"}, {\"connectgaps\": false, \"fill\": \"tozeroy\", \"line\": {\"color\": \"red\", \"dash\": \"solid\", \"shape\": \"linear\", \"width\": 0.5}, \"mode\": \"lines\", \"name\": \"Spread\", \"showlegend\": false, \"type\": \"scatter\", \"x\": [0, 1, 2, 3, 4, 5, 6, 7, 8, 9, 10, 11, 12, 13, 14, 15, 16, 17, 18, 19, 20, 21, 22, 23, 24, 25, 26, 27, 28, 29, 30, 31, 32, 33, 34, 35, 36, 37, 38, 39, 40, 41, 42, 43, 44, 45, 46, 47, 48, 49, 50, 51, 52, 53, 54, 55, 56, 57, 58, 59, 60, 61, 62, 63, 64, 65, 66, 67, 68, 69, 70, 71, 72, 73, 74, 75, 76, 77, 78, 79, 80, 81, 82, 83, 84, 85, 86, 87, 88, 89, 90, 91, 92, 93, 94, 95, 96, 97, 98, 99, 100, 101, 102, 103, 104, 105, 106, 107, 108, 109, 110, 111], \"xaxis\": \"x2\", \"y\": [\"\", \"\", \"\", \"\", \"\", \"\", \"\", \"\", \"\", \"\", \"\", \"\", \"\", \"\", \"\", \"\", \"\", \"\", \"\", \"\", \"\", \"\", \"\", \"\", \"\", \"\", \"\", \"\", \"\", \"\", \"\", \"\", \"\", \"\", \"\", \"\", \"\", \"\", \"\", \"\", \"\", \"\", \"\", \"\", \"\", \"\", \"\", \"\", \"\", \"\", \"\", \"\", \"\", \"\", \"\", \"\", \"\", \"\", \"\", \"\", \"\", \"\", \"\", \"\", \"\", \"\", \"\", \"\", \"\", \"\", \"\", \"\", \"\", \"\", \"\", \"\", \"\", \"\", \"\", \"\", \"\", \"\", \"\", \"\", \"\", \"\", \"\", \"\", \"\", \"\", \"\", \"\", \"\", \"\", \"\", \"\", \"\", \"\", \"\", \"\", \"\", \"\", \"\", \"\", \"\", \"\", \"\", \"\", \"\", \"\", \"\", \"\"], \"yaxis\": \"y2\"}],\n",
       "                        {\"hovermode\": \"x\", \"legend\": {\"bgcolor\": \"#F5F6F9\", \"font\": {\"color\": \"#4D5663\"}}, \"paper_bgcolor\": \"#F5F6F9\", \"plot_bgcolor\": \"#F5F6F9\", \"template\": {\"data\": {\"bar\": [{\"error_x\": {\"color\": \"#2a3f5f\"}, \"error_y\": {\"color\": \"#2a3f5f\"}, \"marker\": {\"line\": {\"color\": \"#E5ECF6\", \"width\": 0.5}}, \"type\": \"bar\"}], \"barpolar\": [{\"marker\": {\"line\": {\"color\": \"#E5ECF6\", \"width\": 0.5}}, \"type\": \"barpolar\"}], \"carpet\": [{\"aaxis\": {\"endlinecolor\": \"#2a3f5f\", \"gridcolor\": \"white\", \"linecolor\": \"white\", \"minorgridcolor\": \"white\", \"startlinecolor\": \"#2a3f5f\"}, \"baxis\": {\"endlinecolor\": \"#2a3f5f\", \"gridcolor\": \"white\", \"linecolor\": \"white\", \"minorgridcolor\": \"white\", \"startlinecolor\": \"#2a3f5f\"}, \"type\": \"carpet\"}], \"choropleth\": [{\"colorbar\": {\"outlinewidth\": 0, \"ticks\": \"\"}, \"type\": \"choropleth\"}], \"contour\": [{\"colorbar\": {\"outlinewidth\": 0, \"ticks\": \"\"}, \"colorscale\": [[0.0, \"#0d0887\"], [0.1111111111111111, \"#46039f\"], [0.2222222222222222, \"#7201a8\"], [0.3333333333333333, \"#9c179e\"], [0.4444444444444444, \"#bd3786\"], [0.5555555555555556, \"#d8576b\"], [0.6666666666666666, \"#ed7953\"], [0.7777777777777778, \"#fb9f3a\"], [0.8888888888888888, \"#fdca26\"], [1.0, \"#f0f921\"]], \"type\": \"contour\"}], \"contourcarpet\": [{\"colorbar\": {\"outlinewidth\": 0, \"ticks\": \"\"}, \"type\": \"contourcarpet\"}], \"heatmap\": [{\"colorbar\": {\"outlinewidth\": 0, \"ticks\": \"\"}, \"colorscale\": [[0.0, \"#0d0887\"], [0.1111111111111111, \"#46039f\"], [0.2222222222222222, \"#7201a8\"], [0.3333333333333333, \"#9c179e\"], [0.4444444444444444, \"#bd3786\"], [0.5555555555555556, \"#d8576b\"], [0.6666666666666666, \"#ed7953\"], [0.7777777777777778, \"#fb9f3a\"], [0.8888888888888888, \"#fdca26\"], [1.0, \"#f0f921\"]], \"type\": \"heatmap\"}], \"heatmapgl\": [{\"colorbar\": {\"outlinewidth\": 0, \"ticks\": \"\"}, \"colorscale\": [[0.0, \"#0d0887\"], [0.1111111111111111, \"#46039f\"], [0.2222222222222222, \"#7201a8\"], [0.3333333333333333, \"#9c179e\"], [0.4444444444444444, \"#bd3786\"], [0.5555555555555556, \"#d8576b\"], [0.6666666666666666, \"#ed7953\"], [0.7777777777777778, \"#fb9f3a\"], [0.8888888888888888, \"#fdca26\"], [1.0, \"#f0f921\"]], \"type\": \"heatmapgl\"}], \"histogram\": [{\"marker\": {\"colorbar\": {\"outlinewidth\": 0, \"ticks\": \"\"}}, \"type\": \"histogram\"}], \"histogram2d\": [{\"colorbar\": {\"outlinewidth\": 0, \"ticks\": \"\"}, \"colorscale\": [[0.0, \"#0d0887\"], [0.1111111111111111, \"#46039f\"], [0.2222222222222222, \"#7201a8\"], [0.3333333333333333, \"#9c179e\"], [0.4444444444444444, \"#bd3786\"], [0.5555555555555556, \"#d8576b\"], [0.6666666666666666, \"#ed7953\"], [0.7777777777777778, \"#fb9f3a\"], [0.8888888888888888, \"#fdca26\"], [1.0, \"#f0f921\"]], \"type\": \"histogram2d\"}], \"histogram2dcontour\": [{\"colorbar\": {\"outlinewidth\": 0, \"ticks\": \"\"}, \"colorscale\": [[0.0, \"#0d0887\"], [0.1111111111111111, \"#46039f\"], [0.2222222222222222, \"#7201a8\"], [0.3333333333333333, \"#9c179e\"], [0.4444444444444444, \"#bd3786\"], [0.5555555555555556, \"#d8576b\"], [0.6666666666666666, \"#ed7953\"], [0.7777777777777778, \"#fb9f3a\"], [0.8888888888888888, \"#fdca26\"], [1.0, \"#f0f921\"]], \"type\": \"histogram2dcontour\"}], \"mesh3d\": [{\"colorbar\": {\"outlinewidth\": 0, \"ticks\": \"\"}, \"type\": \"mesh3d\"}], \"parcoords\": [{\"line\": {\"colorbar\": {\"outlinewidth\": 0, \"ticks\": \"\"}}, \"type\": \"parcoords\"}], \"pie\": [{\"automargin\": true, \"type\": \"pie\"}], \"scatter\": [{\"marker\": {\"colorbar\": {\"outlinewidth\": 0, \"ticks\": \"\"}}, \"type\": \"scatter\"}], \"scatter3d\": [{\"line\": {\"colorbar\": {\"outlinewidth\": 0, \"ticks\": \"\"}}, \"marker\": {\"colorbar\": {\"outlinewidth\": 0, \"ticks\": \"\"}}, \"type\": \"scatter3d\"}], \"scattercarpet\": [{\"marker\": {\"colorbar\": {\"outlinewidth\": 0, \"ticks\": \"\"}}, \"type\": \"scattercarpet\"}], \"scattergeo\": [{\"marker\": {\"colorbar\": {\"outlinewidth\": 0, \"ticks\": \"\"}}, \"type\": \"scattergeo\"}], \"scattergl\": [{\"marker\": {\"colorbar\": {\"outlinewidth\": 0, \"ticks\": \"\"}}, \"type\": \"scattergl\"}], \"scattermapbox\": [{\"marker\": {\"colorbar\": {\"outlinewidth\": 0, \"ticks\": \"\"}}, \"type\": \"scattermapbox\"}], \"scatterpolar\": [{\"marker\": {\"colorbar\": {\"outlinewidth\": 0, \"ticks\": \"\"}}, \"type\": \"scatterpolar\"}], \"scatterpolargl\": [{\"marker\": {\"colorbar\": {\"outlinewidth\": 0, \"ticks\": \"\"}}, \"type\": \"scatterpolargl\"}], \"scatterternary\": [{\"marker\": {\"colorbar\": {\"outlinewidth\": 0, \"ticks\": \"\"}}, \"type\": \"scatterternary\"}], \"surface\": [{\"colorbar\": {\"outlinewidth\": 0, \"ticks\": \"\"}, \"colorscale\": [[0.0, \"#0d0887\"], [0.1111111111111111, \"#46039f\"], [0.2222222222222222, \"#7201a8\"], [0.3333333333333333, \"#9c179e\"], [0.4444444444444444, \"#bd3786\"], [0.5555555555555556, \"#d8576b\"], [0.6666666666666666, \"#ed7953\"], [0.7777777777777778, \"#fb9f3a\"], [0.8888888888888888, \"#fdca26\"], [1.0, \"#f0f921\"]], \"type\": \"surface\"}], \"table\": [{\"cells\": {\"fill\": {\"color\": \"#EBF0F8\"}, \"line\": {\"color\": \"white\"}}, \"header\": {\"fill\": {\"color\": \"#C8D4E3\"}, \"line\": {\"color\": \"white\"}}, \"type\": \"table\"}]}, \"layout\": {\"annotationdefaults\": {\"arrowcolor\": \"#2a3f5f\", \"arrowhead\": 0, \"arrowwidth\": 1}, \"coloraxis\": {\"colorbar\": {\"outlinewidth\": 0, \"ticks\": \"\"}}, \"colorscale\": {\"diverging\": [[0, \"#8e0152\"], [0.1, \"#c51b7d\"], [0.2, \"#de77ae\"], [0.3, \"#f1b6da\"], [0.4, \"#fde0ef\"], [0.5, \"#f7f7f7\"], [0.6, \"#e6f5d0\"], [0.7, \"#b8e186\"], [0.8, \"#7fbc41\"], [0.9, \"#4d9221\"], [1, \"#276419\"]], \"sequential\": [[0.0, \"#0d0887\"], [0.1111111111111111, \"#46039f\"], [0.2222222222222222, \"#7201a8\"], [0.3333333333333333, \"#9c179e\"], [0.4444444444444444, \"#bd3786\"], [0.5555555555555556, \"#d8576b\"], [0.6666666666666666, \"#ed7953\"], [0.7777777777777778, \"#fb9f3a\"], [0.8888888888888888, \"#fdca26\"], [1.0, \"#f0f921\"]], \"sequentialminus\": [[0.0, \"#0d0887\"], [0.1111111111111111, \"#46039f\"], [0.2222222222222222, \"#7201a8\"], [0.3333333333333333, \"#9c179e\"], [0.4444444444444444, \"#bd3786\"], [0.5555555555555556, \"#d8576b\"], [0.6666666666666666, \"#ed7953\"], [0.7777777777777778, \"#fb9f3a\"], [0.8888888888888888, \"#fdca26\"], [1.0, \"#f0f921\"]]}, \"colorway\": [\"#636efa\", \"#EF553B\", \"#00cc96\", \"#ab63fa\", \"#FFA15A\", \"#19d3f3\", \"#FF6692\", \"#B6E880\", \"#FF97FF\", \"#FECB52\"], \"font\": {\"color\": \"#2a3f5f\"}, \"geo\": {\"bgcolor\": \"white\", \"lakecolor\": \"white\", \"landcolor\": \"#E5ECF6\", \"showlakes\": true, \"showland\": true, \"subunitcolor\": \"white\"}, \"hoverlabel\": {\"align\": \"left\"}, \"hovermode\": \"closest\", \"mapbox\": {\"style\": \"light\"}, \"paper_bgcolor\": \"white\", \"plot_bgcolor\": \"#E5ECF6\", \"polar\": {\"angularaxis\": {\"gridcolor\": \"white\", \"linecolor\": \"white\", \"ticks\": \"\"}, \"bgcolor\": \"#E5ECF6\", \"radialaxis\": {\"gridcolor\": \"white\", \"linecolor\": \"white\", \"ticks\": \"\"}}, \"scene\": {\"xaxis\": {\"backgroundcolor\": \"#E5ECF6\", \"gridcolor\": \"white\", \"gridwidth\": 2, \"linecolor\": \"white\", \"showbackground\": true, \"ticks\": \"\", \"zerolinecolor\": \"white\"}, \"yaxis\": {\"backgroundcolor\": \"#E5ECF6\", \"gridcolor\": \"white\", \"gridwidth\": 2, \"linecolor\": \"white\", \"showbackground\": true, \"ticks\": \"\", \"zerolinecolor\": \"white\"}, \"zaxis\": {\"backgroundcolor\": \"#E5ECF6\", \"gridcolor\": \"white\", \"gridwidth\": 2, \"linecolor\": \"white\", \"showbackground\": true, \"ticks\": \"\", \"zerolinecolor\": \"white\"}}, \"shapedefaults\": {\"line\": {\"color\": \"#2a3f5f\"}}, \"ternary\": {\"aaxis\": {\"gridcolor\": \"white\", \"linecolor\": \"white\", \"ticks\": \"\"}, \"baxis\": {\"gridcolor\": \"white\", \"linecolor\": \"white\", \"ticks\": \"\"}, \"bgcolor\": \"#E5ECF6\", \"caxis\": {\"gridcolor\": \"white\", \"linecolor\": \"white\", \"ticks\": \"\"}}, \"title\": {\"x\": 0.05}, \"xaxis\": {\"automargin\": true, \"gridcolor\": \"white\", \"linecolor\": \"white\", \"ticks\": \"\", \"title\": {\"standoff\": 15}, \"zerolinecolor\": \"white\", \"zerolinewidth\": 2}, \"yaxis\": {\"automargin\": true, \"gridcolor\": \"white\", \"linecolor\": \"white\", \"ticks\": \"\", \"title\": {\"standoff\": 15}, \"zerolinecolor\": \"white\", \"zerolinewidth\": 2}}}, \"title\": {\"font\": {\"color\": \"#4D5663\"}}, \"xaxis\": {\"gridcolor\": \"#E1E5ED\", \"showgrid\": true, \"tickfont\": {\"color\": \"#4D5663\"}, \"title\": {\"font\": {\"color\": \"#4D5663\"}, \"text\": \"Dias acontecidos desde el primer caso\"}, \"zerolinecolor\": \"#E1E5ED\"}, \"xaxis2\": {\"anchor\": \"y2\", \"gridcolor\": \"#E1E5ED\", \"showgrid\": true, \"showticklabels\": false, \"tickfont\": {\"color\": \"#4D5663\"}, \"title\": {\"font\": {\"color\": \"#4D5663\"}, \"text\": \"Dias acontecidos desde el primer caso\"}, \"zerolinecolor\": \"#E1E5ED\"}, \"yaxis\": {\"domain\": [0.3, 1], \"gridcolor\": \"#E1E5ED\", \"showgrid\": true, \"tickfont\": {\"color\": \"#4D5663\"}, \"title\": {\"font\": {\"color\": \"#4D5663\"}, \"text\": \"Numero de Casos (Acumulados)\"}, \"zerolinecolor\": \"#E1E5ED\"}, \"yaxis2\": {\"domain\": [0, 0.25], \"gridcolor\": \"#E1E5ED\", \"showgrid\": true, \"tickfont\": {\"color\": \"#4D5663\"}, \"title\": {\"font\": {\"color\": \"#4D5663\"}, \"text\": \"Spread\"}, \"zerolinecolor\": \"#E1E5ED\"}},\n",
       "                        {\"showLink\": true, \"linkText\": \"Export to plot.ly\", \"plotlyServerURL\": \"https://plot.ly\", \"responsive\": true}\n",
       "                    ).then(function(){\n",
       "                            \n",
       "var gd = document.getElementById('200fbc8e-51a0-4042-a9cb-732da556977f');\n",
       "var x = new MutationObserver(function (mutations, observer) {{\n",
       "        var display = window.getComputedStyle(gd).display;\n",
       "        if (!display || display === 'none') {{\n",
       "            console.log([gd, 'removed!']);\n",
       "            Plotly.purge(gd);\n",
       "            observer.disconnect();\n",
       "        }}\n",
       "}});\n",
       "\n",
       "// Listen for the removal of the full notebook cells\n",
       "var notebookContainer = gd.closest('#notebook-container');\n",
       "if (notebookContainer) {{\n",
       "    x.observe(notebookContainer, {childList: true});\n",
       "}}\n",
       "\n",
       "// Listen for the clearing of the current output cell\n",
       "var outputEl = gd.closest('.output');\n",
       "if (outputEl) {{\n",
       "    x.observe(outputEl, {childList: true});\n",
       "}}\n",
       "\n",
       "                        })\n",
       "                };\n",
       "                });\n",
       "            </script>\n",
       "        </div>"
      ]
     },
     "metadata": {},
     "output_type": "display_data"
    }
   ],
   "source": [
    "df_acum[['Casos','Recuperados',\"Fallecidos\"]].\\\n",
    "            iplot(kind='spread',colors=[\"blue\", \"green\", \"red\"], xTitle='Dias acontecidos desde el primer caso',\n",
    "                 yTitle=\"Numero de Casos (Acumulados)\",width=4)"
   ]
  },
  {
   "cell_type": "markdown",
   "metadata": {},
   "source": [
    "Dataframe of the daily reported cases"
   ]
  },
  {
   "cell_type": "code",
   "execution_count": 53,
   "metadata": {},
   "outputs": [
    {
     "data": {
      "text/html": [
       "<div>\n",
       "<style scoped>\n",
       "    .dataframe tbody tr th:only-of-type {\n",
       "        vertical-align: middle;\n",
       "    }\n",
       "\n",
       "    .dataframe tbody tr th {\n",
       "        vertical-align: top;\n",
       "    }\n",
       "\n",
       "    .dataframe thead th {\n",
       "        text-align: right;\n",
       "    }\n",
       "</style>\n",
       "<table border=\"1\" class=\"dataframe\">\n",
       "  <thead>\n",
       "    <tr style=\"text-align: right;\">\n",
       "      <th></th>\n",
       "      <th>Numero de Dia</th>\n",
       "      <th>Casos</th>\n",
       "      <th>Recuperados</th>\n",
       "      <th>Fallecidos</th>\n",
       "    </tr>\n",
       "  </thead>\n",
       "  <tbody>\n",
       "    <tr>\n",
       "      <th>107</th>\n",
       "      <td>110.0</td>\n",
       "      <td>2471</td>\n",
       "      <td>1114.0</td>\n",
       "      <td>77.0</td>\n",
       "    </tr>\n",
       "    <tr>\n",
       "      <th>108</th>\n",
       "      <td>111.0</td>\n",
       "      <td>3293</td>\n",
       "      <td>1580.0</td>\n",
       "      <td>57.0</td>\n",
       "    </tr>\n",
       "    <tr>\n",
       "      <th>109</th>\n",
       "      <td>112.0</td>\n",
       "      <td>4271</td>\n",
       "      <td>1248.0</td>\n",
       "      <td>41.0</td>\n",
       "    </tr>\n",
       "    <tr>\n",
       "      <th>110</th>\n",
       "      <td>113.0</td>\n",
       "      <td>3490</td>\n",
       "      <td>924.0</td>\n",
       "      <td>43.0</td>\n",
       "    </tr>\n",
       "    <tr>\n",
       "      <th>111</th>\n",
       "      <td>114.0</td>\n",
       "      <td>2297</td>\n",
       "      <td>1704.0</td>\n",
       "      <td>11.0</td>\n",
       "    </tr>\n",
       "  </tbody>\n",
       "</table>\n",
       "</div>"
      ],
      "text/plain": [
       "     Numero de Dia  Casos  Recuperados  Fallecidos\n",
       "107          110.0   2471       1114.0        77.0\n",
       "108          111.0   3293       1580.0        57.0\n",
       "109          112.0   4271       1248.0        41.0\n",
       "110          113.0   3490        924.0        43.0\n",
       "111          114.0   2297       1704.0        11.0"
      ]
     },
     "execution_count": 53,
     "metadata": {},
     "output_type": "execute_result"
    }
   ],
   "source": [
    "df_days.tail()"
   ]
  },
  {
   "cell_type": "markdown",
   "metadata": {},
   "source": [
    "Barplot of the daily reported cases"
   ]
  },
  {
   "cell_type": "code",
   "execution_count": 54,
   "metadata": {},
   "outputs": [
    {
     "data": {
      "application/vnd.plotly.v1+json": {
       "config": {
        "linkText": "Export to plot.ly",
        "plotlyServerURL": "https://plot.ly",
        "showLink": true
       },
       "data": [
        {
         "marker": {
          "color": "rgba(55, 128, 191, 0.6)",
          "line": {
           "color": "rgba(55, 128, 191, 1.0)",
           "width": 1
          }
         },
         "name": "Casos",
         "orientation": "v",
         "text": "",
         "type": "bar",
         "x": [
          0,
          1,
          2,
          3,
          4,
          5,
          6,
          7,
          8,
          9,
          10,
          11,
          12,
          13,
          14,
          15,
          16,
          17,
          18,
          19,
          20,
          21,
          22,
          23,
          24,
          25,
          26,
          27,
          28,
          29,
          30,
          31,
          32,
          33,
          34,
          35,
          36,
          37,
          38,
          39,
          40,
          41,
          42,
          43,
          44,
          45,
          46,
          47,
          48,
          49,
          50,
          51,
          52,
          53,
          54,
          55,
          56,
          57,
          58,
          59,
          60,
          61,
          62,
          63,
          64,
          65,
          66,
          67,
          68,
          69,
          70,
          71,
          72,
          73,
          74,
          75,
          76,
          77,
          78,
          79,
          80,
          81,
          82,
          83,
          84,
          85,
          86,
          87,
          88,
          89,
          90,
          91,
          92,
          93,
          94,
          95,
          96,
          97,
          98,
          99,
          100,
          101,
          102,
          103,
          104,
          105,
          106,
          107,
          108,
          109,
          110,
          111
         ],
         "y": [
          1,
          2,
          6,
          5,
          5,
          18,
          16,
          14,
          25,
          12,
          26,
          48,
          34,
          29,
          73,
          105,
          61,
          10,
          49,
          69,
          94,
          96,
          107,
          160,
          96,
          105,
          140,
          79,
          94,
          129,
          346,
          169,
          251,
          235,
          67,
          76,
          126,
          125,
          128,
          205,
          183,
          175,
          182,
          171,
          193,
          195,
          304,
          262,
          237,
          218,
          354,
          261,
          296,
          501,
          278,
          422,
          307,
          641,
          347,
          497,
          595,
          443,
          568,
          551,
          658,
          659,
          681,
          606,
          725,
          639,
          718,
          641,
          777,
          645,
          805,
          1017,
          1002,
          802,
          1025,
          1103,
          1258,
          1326,
          1550,
          1145,
          1129,
          1291,
          1512,
          1720,
          1469,
          1355,
          1211,
          1460,
          1371,
          1615,
          1930,
          1246,
          2162,
          2232,
          1628,
          2256,
          1528,
          3015,
          3032,
          2417,
          2997,
          2910,
          2986,
          2471,
          3293,
          4271,
          3490,
          2297
         ]
        },
        {
         "marker": {
          "color": "rgba(0, 128, 0, 0.6)",
          "line": {
           "color": "rgba(0, 128, 0, 1.0)",
           "width": 1
          }
         },
         "name": "Recuperados",
         "orientation": "v",
         "text": "",
         "type": "bar",
         "x": [
          0,
          1,
          2,
          3,
          4,
          5,
          6,
          7,
          8,
          9,
          10,
          11,
          12,
          13,
          14,
          15,
          16,
          17,
          18,
          19,
          20,
          21,
          22,
          23,
          24,
          25,
          26,
          27,
          28,
          29,
          30,
          31,
          32,
          33,
          34,
          35,
          36,
          37,
          38,
          39,
          40,
          41,
          42,
          43,
          44,
          45,
          46,
          47,
          48,
          49,
          50,
          51,
          52,
          53,
          54,
          55,
          56,
          57,
          58,
          59,
          60,
          61,
          62,
          63,
          64,
          65,
          66,
          67,
          68,
          69,
          70,
          71,
          72,
          73,
          74,
          75,
          76,
          77,
          78,
          79,
          80,
          81,
          82,
          83,
          84,
          85,
          86,
          87,
          88,
          89,
          90,
          91,
          92,
          93,
          94,
          95,
          96,
          97,
          98,
          99,
          100,
          101,
          102,
          103,
          104,
          105,
          106,
          107,
          108,
          109,
          110,
          111
         ],
         "y": [
          0,
          0,
          0,
          0,
          1,
          1,
          1,
          0,
          1,
          0,
          1,
          2,
          4,
          3,
          9,
          11,
          13,
          17,
          18,
          32,
          29,
          35,
          29,
          33,
          33,
          36,
          41,
          21,
          25,
          26,
          44,
          45,
          49,
          54,
          94,
          97,
          80,
          98,
          75,
          53,
          56,
          73,
          84,
          85,
          88,
          104,
          89,
          103,
          93,
          90,
          105,
          129,
          61,
          113,
          124,
          97,
          139,
          299,
          221,
          156,
          156,
          193,
          160,
          223,
          140,
          224,
          134,
          205,
          202,
          144,
          193,
          194,
          250,
          280,
          264,
          213,
          302,
          282,
          354,
          328,
          365,
          334,
          218,
          1869,
          335,
          1417,
          1058,
          669,
          938,
          476,
          991,
          1098,
          504,
          1088,
          596,
          840,
          669,
          432,
          289,
          428,
          971,
          1095,
          1340,
          1409,
          1759,
          1376,
          1285,
          1114,
          1580,
          1248,
          924,
          1704
         ]
        },
        {
         "marker": {
          "color": "rgba(219, 64, 82, 0.6)",
          "line": {
           "color": "rgba(219, 64, 82, 1.0)",
           "width": 1
          }
         },
         "name": "Fallecidos",
         "orientation": "v",
         "text": "",
         "type": "bar",
         "x": [
          0,
          1,
          2,
          3,
          4,
          5,
          6,
          7,
          8,
          9,
          10,
          11,
          12,
          13,
          14,
          15,
          16,
          17,
          18,
          19,
          20,
          21,
          22,
          23,
          24,
          25,
          26,
          27,
          28,
          29,
          30,
          31,
          32,
          33,
          34,
          35,
          36,
          37,
          38,
          39,
          40,
          41,
          42,
          43,
          44,
          45,
          46,
          47,
          48,
          49,
          50,
          51,
          52,
          53,
          54,
          55,
          56,
          57,
          58,
          59,
          60,
          61,
          62,
          63,
          64,
          65,
          66,
          67,
          68,
          69,
          70,
          71,
          72,
          73,
          74,
          75,
          76,
          77,
          78,
          79,
          80,
          81,
          82,
          83,
          84,
          85,
          86,
          87,
          88,
          89,
          90,
          91,
          92,
          93,
          94,
          95,
          96,
          97,
          98,
          99,
          100,
          101,
          102,
          103,
          104,
          105,
          106,
          107,
          108,
          109,
          110,
          111
         ],
         "y": [
          0,
          0,
          0,
          0,
          0,
          0,
          0,
          1,
          0,
          0,
          0,
          0,
          0,
          1,
          1,
          1,
          4,
          2,
          3,
          5,
          1,
          5,
          5,
          4,
          7,
          13,
          15,
          8,
          12,
          8,
          5,
          12,
          5,
          8,
          12,
          7,
          11,
          12,
          16,
          4,
          12,
          9,
          9,
          9,
          8,
          9,
          15,
          10,
          18,
          11,
          11,
          19,
          21,
          11,
          19,
          18,
          21,
          19,
          23,
          25,
          17,
          17,
          18,
          26,
          11,
          14,
          18,
          21,
          19,
          20,
          26,
          29,
          31,
          25,
          39,
          40,
          39,
          27,
          44,
          30,
          38,
          46,
          50,
          45,
          48,
          52,
          75,
          55,
          67,
          58,
          63,
          66,
          71,
          60,
          70,
          73,
          68,
          99,
          83,
          88,
          91,
          87,
          82,
          75,
          93,
          96,
          82,
          77,
          57,
          41,
          43,
          11
         ]
        }
       ],
       "layout": {
        "barmode": "overlay",
        "legend": {
         "bgcolor": "#F5F6F9",
         "font": {
          "color": "#4D5663"
         }
        },
        "paper_bgcolor": "#F5F6F9",
        "plot_bgcolor": "#F5F6F9",
        "template": {
         "data": {
          "bar": [
           {
            "error_x": {
             "color": "#2a3f5f"
            },
            "error_y": {
             "color": "#2a3f5f"
            },
            "marker": {
             "line": {
              "color": "#E5ECF6",
              "width": 0.5
             }
            },
            "type": "bar"
           }
          ],
          "barpolar": [
           {
            "marker": {
             "line": {
              "color": "#E5ECF6",
              "width": 0.5
             }
            },
            "type": "barpolar"
           }
          ],
          "carpet": [
           {
            "aaxis": {
             "endlinecolor": "#2a3f5f",
             "gridcolor": "white",
             "linecolor": "white",
             "minorgridcolor": "white",
             "startlinecolor": "#2a3f5f"
            },
            "baxis": {
             "endlinecolor": "#2a3f5f",
             "gridcolor": "white",
             "linecolor": "white",
             "minorgridcolor": "white",
             "startlinecolor": "#2a3f5f"
            },
            "type": "carpet"
           }
          ],
          "choropleth": [
           {
            "colorbar": {
             "outlinewidth": 0,
             "ticks": ""
            },
            "type": "choropleth"
           }
          ],
          "contour": [
           {
            "colorbar": {
             "outlinewidth": 0,
             "ticks": ""
            },
            "colorscale": [
             [
              0,
              "#0d0887"
             ],
             [
              0.1111111111111111,
              "#46039f"
             ],
             [
              0.2222222222222222,
              "#7201a8"
             ],
             [
              0.3333333333333333,
              "#9c179e"
             ],
             [
              0.4444444444444444,
              "#bd3786"
             ],
             [
              0.5555555555555556,
              "#d8576b"
             ],
             [
              0.6666666666666666,
              "#ed7953"
             ],
             [
              0.7777777777777778,
              "#fb9f3a"
             ],
             [
              0.8888888888888888,
              "#fdca26"
             ],
             [
              1,
              "#f0f921"
             ]
            ],
            "type": "contour"
           }
          ],
          "contourcarpet": [
           {
            "colorbar": {
             "outlinewidth": 0,
             "ticks": ""
            },
            "type": "contourcarpet"
           }
          ],
          "heatmap": [
           {
            "colorbar": {
             "outlinewidth": 0,
             "ticks": ""
            },
            "colorscale": [
             [
              0,
              "#0d0887"
             ],
             [
              0.1111111111111111,
              "#46039f"
             ],
             [
              0.2222222222222222,
              "#7201a8"
             ],
             [
              0.3333333333333333,
              "#9c179e"
             ],
             [
              0.4444444444444444,
              "#bd3786"
             ],
             [
              0.5555555555555556,
              "#d8576b"
             ],
             [
              0.6666666666666666,
              "#ed7953"
             ],
             [
              0.7777777777777778,
              "#fb9f3a"
             ],
             [
              0.8888888888888888,
              "#fdca26"
             ],
             [
              1,
              "#f0f921"
             ]
            ],
            "type": "heatmap"
           }
          ],
          "heatmapgl": [
           {
            "colorbar": {
             "outlinewidth": 0,
             "ticks": ""
            },
            "colorscale": [
             [
              0,
              "#0d0887"
             ],
             [
              0.1111111111111111,
              "#46039f"
             ],
             [
              0.2222222222222222,
              "#7201a8"
             ],
             [
              0.3333333333333333,
              "#9c179e"
             ],
             [
              0.4444444444444444,
              "#bd3786"
             ],
             [
              0.5555555555555556,
              "#d8576b"
             ],
             [
              0.6666666666666666,
              "#ed7953"
             ],
             [
              0.7777777777777778,
              "#fb9f3a"
             ],
             [
              0.8888888888888888,
              "#fdca26"
             ],
             [
              1,
              "#f0f921"
             ]
            ],
            "type": "heatmapgl"
           }
          ],
          "histogram": [
           {
            "marker": {
             "colorbar": {
              "outlinewidth": 0,
              "ticks": ""
             }
            },
            "type": "histogram"
           }
          ],
          "histogram2d": [
           {
            "colorbar": {
             "outlinewidth": 0,
             "ticks": ""
            },
            "colorscale": [
             [
              0,
              "#0d0887"
             ],
             [
              0.1111111111111111,
              "#46039f"
             ],
             [
              0.2222222222222222,
              "#7201a8"
             ],
             [
              0.3333333333333333,
              "#9c179e"
             ],
             [
              0.4444444444444444,
              "#bd3786"
             ],
             [
              0.5555555555555556,
              "#d8576b"
             ],
             [
              0.6666666666666666,
              "#ed7953"
             ],
             [
              0.7777777777777778,
              "#fb9f3a"
             ],
             [
              0.8888888888888888,
              "#fdca26"
             ],
             [
              1,
              "#f0f921"
             ]
            ],
            "type": "histogram2d"
           }
          ],
          "histogram2dcontour": [
           {
            "colorbar": {
             "outlinewidth": 0,
             "ticks": ""
            },
            "colorscale": [
             [
              0,
              "#0d0887"
             ],
             [
              0.1111111111111111,
              "#46039f"
             ],
             [
              0.2222222222222222,
              "#7201a8"
             ],
             [
              0.3333333333333333,
              "#9c179e"
             ],
             [
              0.4444444444444444,
              "#bd3786"
             ],
             [
              0.5555555555555556,
              "#d8576b"
             ],
             [
              0.6666666666666666,
              "#ed7953"
             ],
             [
              0.7777777777777778,
              "#fb9f3a"
             ],
             [
              0.8888888888888888,
              "#fdca26"
             ],
             [
              1,
              "#f0f921"
             ]
            ],
            "type": "histogram2dcontour"
           }
          ],
          "mesh3d": [
           {
            "colorbar": {
             "outlinewidth": 0,
             "ticks": ""
            },
            "type": "mesh3d"
           }
          ],
          "parcoords": [
           {
            "line": {
             "colorbar": {
              "outlinewidth": 0,
              "ticks": ""
             }
            },
            "type": "parcoords"
           }
          ],
          "pie": [
           {
            "automargin": true,
            "type": "pie"
           }
          ],
          "scatter": [
           {
            "marker": {
             "colorbar": {
              "outlinewidth": 0,
              "ticks": ""
             }
            },
            "type": "scatter"
           }
          ],
          "scatter3d": [
           {
            "line": {
             "colorbar": {
              "outlinewidth": 0,
              "ticks": ""
             }
            },
            "marker": {
             "colorbar": {
              "outlinewidth": 0,
              "ticks": ""
             }
            },
            "type": "scatter3d"
           }
          ],
          "scattercarpet": [
           {
            "marker": {
             "colorbar": {
              "outlinewidth": 0,
              "ticks": ""
             }
            },
            "type": "scattercarpet"
           }
          ],
          "scattergeo": [
           {
            "marker": {
             "colorbar": {
              "outlinewidth": 0,
              "ticks": ""
             }
            },
            "type": "scattergeo"
           }
          ],
          "scattergl": [
           {
            "marker": {
             "colorbar": {
              "outlinewidth": 0,
              "ticks": ""
             }
            },
            "type": "scattergl"
           }
          ],
          "scattermapbox": [
           {
            "marker": {
             "colorbar": {
              "outlinewidth": 0,
              "ticks": ""
             }
            },
            "type": "scattermapbox"
           }
          ],
          "scatterpolar": [
           {
            "marker": {
             "colorbar": {
              "outlinewidth": 0,
              "ticks": ""
             }
            },
            "type": "scatterpolar"
           }
          ],
          "scatterpolargl": [
           {
            "marker": {
             "colorbar": {
              "outlinewidth": 0,
              "ticks": ""
             }
            },
            "type": "scatterpolargl"
           }
          ],
          "scatterternary": [
           {
            "marker": {
             "colorbar": {
              "outlinewidth": 0,
              "ticks": ""
             }
            },
            "type": "scatterternary"
           }
          ],
          "surface": [
           {
            "colorbar": {
             "outlinewidth": 0,
             "ticks": ""
            },
            "colorscale": [
             [
              0,
              "#0d0887"
             ],
             [
              0.1111111111111111,
              "#46039f"
             ],
             [
              0.2222222222222222,
              "#7201a8"
             ],
             [
              0.3333333333333333,
              "#9c179e"
             ],
             [
              0.4444444444444444,
              "#bd3786"
             ],
             [
              0.5555555555555556,
              "#d8576b"
             ],
             [
              0.6666666666666666,
              "#ed7953"
             ],
             [
              0.7777777777777778,
              "#fb9f3a"
             ],
             [
              0.8888888888888888,
              "#fdca26"
             ],
             [
              1,
              "#f0f921"
             ]
            ],
            "type": "surface"
           }
          ],
          "table": [
           {
            "cells": {
             "fill": {
              "color": "#EBF0F8"
             },
             "line": {
              "color": "white"
             }
            },
            "header": {
             "fill": {
              "color": "#C8D4E3"
             },
             "line": {
              "color": "white"
             }
            },
            "type": "table"
           }
          ]
         },
         "layout": {
          "annotationdefaults": {
           "arrowcolor": "#2a3f5f",
           "arrowhead": 0,
           "arrowwidth": 1
          },
          "coloraxis": {
           "colorbar": {
            "outlinewidth": 0,
            "ticks": ""
           }
          },
          "colorscale": {
           "diverging": [
            [
             0,
             "#8e0152"
            ],
            [
             0.1,
             "#c51b7d"
            ],
            [
             0.2,
             "#de77ae"
            ],
            [
             0.3,
             "#f1b6da"
            ],
            [
             0.4,
             "#fde0ef"
            ],
            [
             0.5,
             "#f7f7f7"
            ],
            [
             0.6,
             "#e6f5d0"
            ],
            [
             0.7,
             "#b8e186"
            ],
            [
             0.8,
             "#7fbc41"
            ],
            [
             0.9,
             "#4d9221"
            ],
            [
             1,
             "#276419"
            ]
           ],
           "sequential": [
            [
             0,
             "#0d0887"
            ],
            [
             0.1111111111111111,
             "#46039f"
            ],
            [
             0.2222222222222222,
             "#7201a8"
            ],
            [
             0.3333333333333333,
             "#9c179e"
            ],
            [
             0.4444444444444444,
             "#bd3786"
            ],
            [
             0.5555555555555556,
             "#d8576b"
            ],
            [
             0.6666666666666666,
             "#ed7953"
            ],
            [
             0.7777777777777778,
             "#fb9f3a"
            ],
            [
             0.8888888888888888,
             "#fdca26"
            ],
            [
             1,
             "#f0f921"
            ]
           ],
           "sequentialminus": [
            [
             0,
             "#0d0887"
            ],
            [
             0.1111111111111111,
             "#46039f"
            ],
            [
             0.2222222222222222,
             "#7201a8"
            ],
            [
             0.3333333333333333,
             "#9c179e"
            ],
            [
             0.4444444444444444,
             "#bd3786"
            ],
            [
             0.5555555555555556,
             "#d8576b"
            ],
            [
             0.6666666666666666,
             "#ed7953"
            ],
            [
             0.7777777777777778,
             "#fb9f3a"
            ],
            [
             0.8888888888888888,
             "#fdca26"
            ],
            [
             1,
             "#f0f921"
            ]
           ]
          },
          "colorway": [
           "#636efa",
           "#EF553B",
           "#00cc96",
           "#ab63fa",
           "#FFA15A",
           "#19d3f3",
           "#FF6692",
           "#B6E880",
           "#FF97FF",
           "#FECB52"
          ],
          "font": {
           "color": "#2a3f5f"
          },
          "geo": {
           "bgcolor": "white",
           "lakecolor": "white",
           "landcolor": "#E5ECF6",
           "showlakes": true,
           "showland": true,
           "subunitcolor": "white"
          },
          "hoverlabel": {
           "align": "left"
          },
          "hovermode": "closest",
          "mapbox": {
           "style": "light"
          },
          "paper_bgcolor": "white",
          "plot_bgcolor": "#E5ECF6",
          "polar": {
           "angularaxis": {
            "gridcolor": "white",
            "linecolor": "white",
            "ticks": ""
           },
           "bgcolor": "#E5ECF6",
           "radialaxis": {
            "gridcolor": "white",
            "linecolor": "white",
            "ticks": ""
           }
          },
          "scene": {
           "xaxis": {
            "backgroundcolor": "#E5ECF6",
            "gridcolor": "white",
            "gridwidth": 2,
            "linecolor": "white",
            "showbackground": true,
            "ticks": "",
            "zerolinecolor": "white"
           },
           "yaxis": {
            "backgroundcolor": "#E5ECF6",
            "gridcolor": "white",
            "gridwidth": 2,
            "linecolor": "white",
            "showbackground": true,
            "ticks": "",
            "zerolinecolor": "white"
           },
           "zaxis": {
            "backgroundcolor": "#E5ECF6",
            "gridcolor": "white",
            "gridwidth": 2,
            "linecolor": "white",
            "showbackground": true,
            "ticks": "",
            "zerolinecolor": "white"
           }
          },
          "shapedefaults": {
           "line": {
            "color": "#2a3f5f"
           }
          },
          "ternary": {
           "aaxis": {
            "gridcolor": "white",
            "linecolor": "white",
            "ticks": ""
           },
           "baxis": {
            "gridcolor": "white",
            "linecolor": "white",
            "ticks": ""
           },
           "bgcolor": "#E5ECF6",
           "caxis": {
            "gridcolor": "white",
            "linecolor": "white",
            "ticks": ""
           }
          },
          "title": {
           "x": 0.05
          },
          "xaxis": {
           "automargin": true,
           "gridcolor": "white",
           "linecolor": "white",
           "ticks": "",
           "title": {
            "standoff": 15
           },
           "zerolinecolor": "white",
           "zerolinewidth": 2
          },
          "yaxis": {
           "automargin": true,
           "gridcolor": "white",
           "linecolor": "white",
           "ticks": "",
           "title": {
            "standoff": 15
           },
           "zerolinecolor": "white",
           "zerolinewidth": 2
          }
         }
        },
        "title": {
         "font": {
          "color": "#4D5663"
         }
        },
        "xaxis": {
         "gridcolor": "#E1E5ED",
         "showgrid": true,
         "tickfont": {
          "color": "#4D5663"
         },
         "title": {
          "font": {
           "color": "#4D5663"
          },
          "text": "Dias acontecidos desde el primer caso"
         },
         "zerolinecolor": "#E1E5ED"
        },
        "yaxis": {
         "gridcolor": "#E1E5ED",
         "showgrid": true,
         "tickfont": {
          "color": "#4D5663"
         },
         "title": {
          "font": {
           "color": "#4D5663"
          },
          "text": "Numero de Casos Diarios Reportados"
         },
         "zerolinecolor": "#E1E5ED"
        }
       }
      },
      "text/html": [
       "<div>\n",
       "        \n",
       "        \n",
       "            <div id=\"76685efd-c67b-4145-918b-1fffa9dcf1d3\" class=\"plotly-graph-div\" style=\"height:525px; width:100%;\"></div>\n",
       "            <script type=\"text/javascript\">\n",
       "                require([\"plotly\"], function(Plotly) {\n",
       "                    window.PLOTLYENV=window.PLOTLYENV || {};\n",
       "                    window.PLOTLYENV.BASE_URL='https://plot.ly';\n",
       "                    \n",
       "                if (document.getElementById(\"76685efd-c67b-4145-918b-1fffa9dcf1d3\")) {\n",
       "                    Plotly.newPlot(\n",
       "                        '76685efd-c67b-4145-918b-1fffa9dcf1d3',\n",
       "                        [{\"marker\": {\"color\": \"rgba(55, 128, 191, 0.6)\", \"line\": {\"color\": \"rgba(55, 128, 191, 1.0)\", \"width\": 1}}, \"name\": \"Casos\", \"orientation\": \"v\", \"text\": \"\", \"type\": \"bar\", \"x\": [0, 1, 2, 3, 4, 5, 6, 7, 8, 9, 10, 11, 12, 13, 14, 15, 16, 17, 18, 19, 20, 21, 22, 23, 24, 25, 26, 27, 28, 29, 30, 31, 32, 33, 34, 35, 36, 37, 38, 39, 40, 41, 42, 43, 44, 45, 46, 47, 48, 49, 50, 51, 52, 53, 54, 55, 56, 57, 58, 59, 60, 61, 62, 63, 64, 65, 66, 67, 68, 69, 70, 71, 72, 73, 74, 75, 76, 77, 78, 79, 80, 81, 82, 83, 84, 85, 86, 87, 88, 89, 90, 91, 92, 93, 94, 95, 96, 97, 98, 99, 100, 101, 102, 103, 104, 105, 106, 107, 108, 109, 110, 111], \"y\": [1, 2, 6, 5, 5, 18, 16, 14, 25, 12, 26, 48, 34, 29, 73, 105, 61, 10, 49, 69, 94, 96, 107, 160, 96, 105, 140, 79, 94, 129, 346, 169, 251, 235, 67, 76, 126, 125, 128, 205, 183, 175, 182, 171, 193, 195, 304, 262, 237, 218, 354, 261, 296, 501, 278, 422, 307, 641, 347, 497, 595, 443, 568, 551, 658, 659, 681, 606, 725, 639, 718, 641, 777, 645, 805, 1017, 1002, 802, 1025, 1103, 1258, 1326, 1550, 1145, 1129, 1291, 1512, 1720, 1469, 1355, 1211, 1460, 1371, 1615, 1930, 1246, 2162, 2232, 1628, 2256, 1528, 3015, 3032, 2417, 2997, 2910, 2986, 2471, 3293, 4271, 3490, 2297]}, {\"marker\": {\"color\": \"rgba(0, 128, 0, 0.6)\", \"line\": {\"color\": \"rgba(0, 128, 0, 1.0)\", \"width\": 1}}, \"name\": \"Recuperados\", \"orientation\": \"v\", \"text\": \"\", \"type\": \"bar\", \"x\": [0, 1, 2, 3, 4, 5, 6, 7, 8, 9, 10, 11, 12, 13, 14, 15, 16, 17, 18, 19, 20, 21, 22, 23, 24, 25, 26, 27, 28, 29, 30, 31, 32, 33, 34, 35, 36, 37, 38, 39, 40, 41, 42, 43, 44, 45, 46, 47, 48, 49, 50, 51, 52, 53, 54, 55, 56, 57, 58, 59, 60, 61, 62, 63, 64, 65, 66, 67, 68, 69, 70, 71, 72, 73, 74, 75, 76, 77, 78, 79, 80, 81, 82, 83, 84, 85, 86, 87, 88, 89, 90, 91, 92, 93, 94, 95, 96, 97, 98, 99, 100, 101, 102, 103, 104, 105, 106, 107, 108, 109, 110, 111], \"y\": [0.0, 0.0, 0.0, 0.0, 1.0, 1.0, 1.0, 0.0, 1.0, 0.0, 1.0, 2.0, 4.0, 3.0, 9.0, 11.0, 13.0, 17.0, 18.0, 32.0, 29.0, 35.0, 29.0, 33.0, 33.0, 36.0, 41.0, 21.0, 25.0, 26.0, 44.0, 45.0, 49.0, 54.0, 94.0, 97.0, 80.0, 98.0, 75.0, 53.0, 56.0, 73.0, 84.0, 85.0, 88.0, 104.0, 89.0, 103.0, 93.0, 90.0, 105.0, 129.0, 61.0, 113.0, 124.0, 97.0, 139.0, 299.0, 221.0, 156.0, 156.0, 193.0, 160.0, 223.0, 140.0, 224.0, 134.0, 205.0, 202.0, 144.0, 193.0, 194.0, 250.0, 280.0, 264.0, 213.0, 302.0, 282.0, 354.0, 328.0, 365.0, 334.0, 218.0, 1869.0, 335.0, 1417.0, 1058.0, 669.0, 938.0, 476.0, 991.0, 1098.0, 504.0, 1088.0, 596.0, 840.0, 669.0, 432.0, 289.0, 428.0, 971.0, 1095.0, 1340.0, 1409.0, 1759.0, 1376.0, 1285.0, 1114.0, 1580.0, 1248.0, 924.0, 1704.0]}, {\"marker\": {\"color\": \"rgba(219, 64, 82, 0.6)\", \"line\": {\"color\": \"rgba(219, 64, 82, 1.0)\", \"width\": 1}}, \"name\": \"Fallecidos\", \"orientation\": \"v\", \"text\": \"\", \"type\": \"bar\", \"x\": [0, 1, 2, 3, 4, 5, 6, 7, 8, 9, 10, 11, 12, 13, 14, 15, 16, 17, 18, 19, 20, 21, 22, 23, 24, 25, 26, 27, 28, 29, 30, 31, 32, 33, 34, 35, 36, 37, 38, 39, 40, 41, 42, 43, 44, 45, 46, 47, 48, 49, 50, 51, 52, 53, 54, 55, 56, 57, 58, 59, 60, 61, 62, 63, 64, 65, 66, 67, 68, 69, 70, 71, 72, 73, 74, 75, 76, 77, 78, 79, 80, 81, 82, 83, 84, 85, 86, 87, 88, 89, 90, 91, 92, 93, 94, 95, 96, 97, 98, 99, 100, 101, 102, 103, 104, 105, 106, 107, 108, 109, 110, 111], \"y\": [0.0, 0.0, 0.0, 0.0, 0.0, 0.0, 0.0, 1.0, 0.0, 0.0, 0.0, 0.0, 0.0, 1.0, 1.0, 1.0, 4.0, 2.0, 3.0, 5.0, 1.0, 5.0, 5.0, 4.0, 7.0, 13.0, 15.0, 8.0, 12.0, 8.0, 5.0, 12.0, 5.0, 8.0, 12.0, 7.0, 11.0, 12.0, 16.0, 4.0, 12.0, 9.0, 9.0, 9.0, 8.0, 9.0, 15.0, 10.0, 18.0, 11.0, 11.0, 19.0, 21.0, 11.0, 19.0, 18.0, 21.0, 19.0, 23.0, 25.0, 17.0, 17.0, 18.0, 26.0, 11.0, 14.0, 18.0, 21.0, 19.0, 20.0, 26.0, 29.0, 31.0, 25.0, 39.0, 40.0, 39.0, 27.0, 44.0, 30.0, 38.0, 46.0, 50.0, 45.0, 48.0, 52.0, 75.0, 55.0, 67.0, 58.0, 63.0, 66.0, 71.0, 60.0, 70.0, 73.0, 68.0, 99.0, 83.0, 88.0, 91.0, 87.0, 82.0, 75.0, 93.0, 96.0, 82.0, 77.0, 57.0, 41.0, 43.0, 11.0]}],\n",
       "                        {\"barmode\": \"overlay\", \"legend\": {\"bgcolor\": \"#F5F6F9\", \"font\": {\"color\": \"#4D5663\"}}, \"paper_bgcolor\": \"#F5F6F9\", \"plot_bgcolor\": \"#F5F6F9\", \"template\": {\"data\": {\"bar\": [{\"error_x\": {\"color\": \"#2a3f5f\"}, \"error_y\": {\"color\": \"#2a3f5f\"}, \"marker\": {\"line\": {\"color\": \"#E5ECF6\", \"width\": 0.5}}, \"type\": \"bar\"}], \"barpolar\": [{\"marker\": {\"line\": {\"color\": \"#E5ECF6\", \"width\": 0.5}}, \"type\": \"barpolar\"}], \"carpet\": [{\"aaxis\": {\"endlinecolor\": \"#2a3f5f\", \"gridcolor\": \"white\", \"linecolor\": \"white\", \"minorgridcolor\": \"white\", \"startlinecolor\": \"#2a3f5f\"}, \"baxis\": {\"endlinecolor\": \"#2a3f5f\", \"gridcolor\": \"white\", \"linecolor\": \"white\", \"minorgridcolor\": \"white\", \"startlinecolor\": \"#2a3f5f\"}, \"type\": \"carpet\"}], \"choropleth\": [{\"colorbar\": {\"outlinewidth\": 0, \"ticks\": \"\"}, \"type\": \"choropleth\"}], \"contour\": [{\"colorbar\": {\"outlinewidth\": 0, \"ticks\": \"\"}, \"colorscale\": [[0.0, \"#0d0887\"], [0.1111111111111111, \"#46039f\"], [0.2222222222222222, \"#7201a8\"], [0.3333333333333333, \"#9c179e\"], [0.4444444444444444, \"#bd3786\"], [0.5555555555555556, \"#d8576b\"], [0.6666666666666666, \"#ed7953\"], [0.7777777777777778, \"#fb9f3a\"], [0.8888888888888888, \"#fdca26\"], [1.0, \"#f0f921\"]], \"type\": \"contour\"}], \"contourcarpet\": [{\"colorbar\": {\"outlinewidth\": 0, \"ticks\": \"\"}, \"type\": \"contourcarpet\"}], \"heatmap\": [{\"colorbar\": {\"outlinewidth\": 0, \"ticks\": \"\"}, \"colorscale\": [[0.0, \"#0d0887\"], [0.1111111111111111, \"#46039f\"], [0.2222222222222222, \"#7201a8\"], [0.3333333333333333, \"#9c179e\"], [0.4444444444444444, \"#bd3786\"], [0.5555555555555556, \"#d8576b\"], [0.6666666666666666, \"#ed7953\"], [0.7777777777777778, \"#fb9f3a\"], [0.8888888888888888, \"#fdca26\"], [1.0, \"#f0f921\"]], \"type\": \"heatmap\"}], \"heatmapgl\": [{\"colorbar\": {\"outlinewidth\": 0, \"ticks\": \"\"}, \"colorscale\": [[0.0, \"#0d0887\"], [0.1111111111111111, \"#46039f\"], [0.2222222222222222, \"#7201a8\"], [0.3333333333333333, \"#9c179e\"], [0.4444444444444444, \"#bd3786\"], [0.5555555555555556, \"#d8576b\"], [0.6666666666666666, \"#ed7953\"], [0.7777777777777778, \"#fb9f3a\"], [0.8888888888888888, \"#fdca26\"], [1.0, \"#f0f921\"]], \"type\": \"heatmapgl\"}], \"histogram\": [{\"marker\": {\"colorbar\": {\"outlinewidth\": 0, \"ticks\": \"\"}}, \"type\": \"histogram\"}], \"histogram2d\": [{\"colorbar\": {\"outlinewidth\": 0, \"ticks\": \"\"}, \"colorscale\": [[0.0, \"#0d0887\"], [0.1111111111111111, \"#46039f\"], [0.2222222222222222, \"#7201a8\"], [0.3333333333333333, \"#9c179e\"], [0.4444444444444444, \"#bd3786\"], [0.5555555555555556, \"#d8576b\"], [0.6666666666666666, \"#ed7953\"], [0.7777777777777778, \"#fb9f3a\"], [0.8888888888888888, \"#fdca26\"], [1.0, \"#f0f921\"]], \"type\": \"histogram2d\"}], \"histogram2dcontour\": [{\"colorbar\": {\"outlinewidth\": 0, \"ticks\": \"\"}, \"colorscale\": [[0.0, \"#0d0887\"], [0.1111111111111111, \"#46039f\"], [0.2222222222222222, \"#7201a8\"], [0.3333333333333333, \"#9c179e\"], [0.4444444444444444, \"#bd3786\"], [0.5555555555555556, \"#d8576b\"], [0.6666666666666666, \"#ed7953\"], [0.7777777777777778, \"#fb9f3a\"], [0.8888888888888888, \"#fdca26\"], [1.0, \"#f0f921\"]], \"type\": \"histogram2dcontour\"}], \"mesh3d\": [{\"colorbar\": {\"outlinewidth\": 0, \"ticks\": \"\"}, \"type\": \"mesh3d\"}], \"parcoords\": [{\"line\": {\"colorbar\": {\"outlinewidth\": 0, \"ticks\": \"\"}}, \"type\": \"parcoords\"}], \"pie\": [{\"automargin\": true, \"type\": \"pie\"}], \"scatter\": [{\"marker\": {\"colorbar\": {\"outlinewidth\": 0, \"ticks\": \"\"}}, \"type\": \"scatter\"}], \"scatter3d\": [{\"line\": {\"colorbar\": {\"outlinewidth\": 0, \"ticks\": \"\"}}, \"marker\": {\"colorbar\": {\"outlinewidth\": 0, \"ticks\": \"\"}}, \"type\": \"scatter3d\"}], \"scattercarpet\": [{\"marker\": {\"colorbar\": {\"outlinewidth\": 0, \"ticks\": \"\"}}, \"type\": \"scattercarpet\"}], \"scattergeo\": [{\"marker\": {\"colorbar\": {\"outlinewidth\": 0, \"ticks\": \"\"}}, \"type\": \"scattergeo\"}], \"scattergl\": [{\"marker\": {\"colorbar\": {\"outlinewidth\": 0, \"ticks\": \"\"}}, \"type\": \"scattergl\"}], \"scattermapbox\": [{\"marker\": {\"colorbar\": {\"outlinewidth\": 0, \"ticks\": \"\"}}, \"type\": \"scattermapbox\"}], \"scatterpolar\": [{\"marker\": {\"colorbar\": {\"outlinewidth\": 0, \"ticks\": \"\"}}, \"type\": \"scatterpolar\"}], \"scatterpolargl\": [{\"marker\": {\"colorbar\": {\"outlinewidth\": 0, \"ticks\": \"\"}}, \"type\": \"scatterpolargl\"}], \"scatterternary\": [{\"marker\": {\"colorbar\": {\"outlinewidth\": 0, \"ticks\": \"\"}}, \"type\": \"scatterternary\"}], \"surface\": [{\"colorbar\": {\"outlinewidth\": 0, \"ticks\": \"\"}, \"colorscale\": [[0.0, \"#0d0887\"], [0.1111111111111111, \"#46039f\"], [0.2222222222222222, \"#7201a8\"], [0.3333333333333333, \"#9c179e\"], [0.4444444444444444, \"#bd3786\"], [0.5555555555555556, \"#d8576b\"], [0.6666666666666666, \"#ed7953\"], [0.7777777777777778, \"#fb9f3a\"], [0.8888888888888888, \"#fdca26\"], [1.0, \"#f0f921\"]], \"type\": \"surface\"}], \"table\": [{\"cells\": {\"fill\": {\"color\": \"#EBF0F8\"}, \"line\": {\"color\": \"white\"}}, \"header\": {\"fill\": {\"color\": \"#C8D4E3\"}, \"line\": {\"color\": \"white\"}}, \"type\": \"table\"}]}, \"layout\": {\"annotationdefaults\": {\"arrowcolor\": \"#2a3f5f\", \"arrowhead\": 0, \"arrowwidth\": 1}, \"coloraxis\": {\"colorbar\": {\"outlinewidth\": 0, \"ticks\": \"\"}}, \"colorscale\": {\"diverging\": [[0, \"#8e0152\"], [0.1, \"#c51b7d\"], [0.2, \"#de77ae\"], [0.3, \"#f1b6da\"], [0.4, \"#fde0ef\"], [0.5, \"#f7f7f7\"], [0.6, \"#e6f5d0\"], [0.7, \"#b8e186\"], [0.8, \"#7fbc41\"], [0.9, \"#4d9221\"], [1, \"#276419\"]], \"sequential\": [[0.0, \"#0d0887\"], [0.1111111111111111, \"#46039f\"], [0.2222222222222222, \"#7201a8\"], [0.3333333333333333, \"#9c179e\"], [0.4444444444444444, \"#bd3786\"], [0.5555555555555556, \"#d8576b\"], [0.6666666666666666, \"#ed7953\"], [0.7777777777777778, \"#fb9f3a\"], [0.8888888888888888, \"#fdca26\"], [1.0, \"#f0f921\"]], \"sequentialminus\": [[0.0, \"#0d0887\"], [0.1111111111111111, \"#46039f\"], [0.2222222222222222, \"#7201a8\"], [0.3333333333333333, \"#9c179e\"], [0.4444444444444444, \"#bd3786\"], [0.5555555555555556, \"#d8576b\"], [0.6666666666666666, \"#ed7953\"], [0.7777777777777778, \"#fb9f3a\"], [0.8888888888888888, \"#fdca26\"], [1.0, \"#f0f921\"]]}, \"colorway\": [\"#636efa\", \"#EF553B\", \"#00cc96\", \"#ab63fa\", \"#FFA15A\", \"#19d3f3\", \"#FF6692\", \"#B6E880\", \"#FF97FF\", \"#FECB52\"], \"font\": {\"color\": \"#2a3f5f\"}, \"geo\": {\"bgcolor\": \"white\", \"lakecolor\": \"white\", \"landcolor\": \"#E5ECF6\", \"showlakes\": true, \"showland\": true, \"subunitcolor\": \"white\"}, \"hoverlabel\": {\"align\": \"left\"}, \"hovermode\": \"closest\", \"mapbox\": {\"style\": \"light\"}, \"paper_bgcolor\": \"white\", \"plot_bgcolor\": \"#E5ECF6\", \"polar\": {\"angularaxis\": {\"gridcolor\": \"white\", \"linecolor\": \"white\", \"ticks\": \"\"}, \"bgcolor\": \"#E5ECF6\", \"radialaxis\": {\"gridcolor\": \"white\", \"linecolor\": \"white\", \"ticks\": \"\"}}, \"scene\": {\"xaxis\": {\"backgroundcolor\": \"#E5ECF6\", \"gridcolor\": \"white\", \"gridwidth\": 2, \"linecolor\": \"white\", \"showbackground\": true, \"ticks\": \"\", \"zerolinecolor\": \"white\"}, \"yaxis\": {\"backgroundcolor\": \"#E5ECF6\", \"gridcolor\": \"white\", \"gridwidth\": 2, \"linecolor\": \"white\", \"showbackground\": true, \"ticks\": \"\", \"zerolinecolor\": \"white\"}, \"zaxis\": {\"backgroundcolor\": \"#E5ECF6\", \"gridcolor\": \"white\", \"gridwidth\": 2, \"linecolor\": \"white\", \"showbackground\": true, \"ticks\": \"\", \"zerolinecolor\": \"white\"}}, \"shapedefaults\": {\"line\": {\"color\": \"#2a3f5f\"}}, \"ternary\": {\"aaxis\": {\"gridcolor\": \"white\", \"linecolor\": \"white\", \"ticks\": \"\"}, \"baxis\": {\"gridcolor\": \"white\", \"linecolor\": \"white\", \"ticks\": \"\"}, \"bgcolor\": \"#E5ECF6\", \"caxis\": {\"gridcolor\": \"white\", \"linecolor\": \"white\", \"ticks\": \"\"}}, \"title\": {\"x\": 0.05}, \"xaxis\": {\"automargin\": true, \"gridcolor\": \"white\", \"linecolor\": \"white\", \"ticks\": \"\", \"title\": {\"standoff\": 15}, \"zerolinecolor\": \"white\", \"zerolinewidth\": 2}, \"yaxis\": {\"automargin\": true, \"gridcolor\": \"white\", \"linecolor\": \"white\", \"ticks\": \"\", \"title\": {\"standoff\": 15}, \"zerolinecolor\": \"white\", \"zerolinewidth\": 2}}}, \"title\": {\"font\": {\"color\": \"#4D5663\"}}, \"xaxis\": {\"gridcolor\": \"#E1E5ED\", \"showgrid\": true, \"tickfont\": {\"color\": \"#4D5663\"}, \"title\": {\"font\": {\"color\": \"#4D5663\"}, \"text\": \"Dias acontecidos desde el primer caso\"}, \"zerolinecolor\": \"#E1E5ED\"}, \"yaxis\": {\"gridcolor\": \"#E1E5ED\", \"showgrid\": true, \"tickfont\": {\"color\": \"#4D5663\"}, \"title\": {\"font\": {\"color\": \"#4D5663\"}, \"text\": \"Numero de Casos Diarios Reportados\"}, \"zerolinecolor\": \"#E1E5ED\"}},\n",
       "                        {\"showLink\": true, \"linkText\": \"Export to plot.ly\", \"plotlyServerURL\": \"https://plot.ly\", \"responsive\": true}\n",
       "                    ).then(function(){\n",
       "                            \n",
       "var gd = document.getElementById('76685efd-c67b-4145-918b-1fffa9dcf1d3');\n",
       "var x = new MutationObserver(function (mutations, observer) {{\n",
       "        var display = window.getComputedStyle(gd).display;\n",
       "        if (!display || display === 'none') {{\n",
       "            console.log([gd, 'removed!']);\n",
       "            Plotly.purge(gd);\n",
       "            observer.disconnect();\n",
       "        }}\n",
       "}});\n",
       "\n",
       "// Listen for the removal of the full notebook cells\n",
       "var notebookContainer = gd.closest('#notebook-container');\n",
       "if (notebookContainer) {{\n",
       "    x.observe(notebookContainer, {childList: true});\n",
       "}}\n",
       "\n",
       "// Listen for the clearing of the current output cell\n",
       "var outputEl = gd.closest('.output');\n",
       "if (outputEl) {{\n",
       "    x.observe(outputEl, {childList: true});\n",
       "}}\n",
       "\n",
       "                        })\n",
       "                };\n",
       "                });\n",
       "            </script>\n",
       "        </div>"
      ]
     },
     "metadata": {},
     "output_type": "display_data"
    }
   ],
   "source": [
    "df_days[['Casos','Recuperados',\"Fallecidos\"]].\\\n",
    "            iplot(kind='bar',colors=[\"blue\", \"green\", \"red\"], xTitle='Dias acontecidos desde el primer caso',\n",
    "                 yTitle=\"Numero de Casos Diarios Reportados\",barmode=\"overlay\")"
   ]
  },
  {
   "cell_type": "code",
   "execution_count": null,
   "metadata": {},
   "outputs": [],
   "source": []
  }
 ],
 "metadata": {
  "hide_input": false,
  "kernelspec": {
   "display_name": "Python 3",
   "language": "python",
   "name": "python3"
  },
  "language_info": {
   "codemirror_mode": {
    "name": "ipython",
    "version": 3
   },
   "file_extension": ".py",
   "mimetype": "text/x-python",
   "name": "python",
   "nbconvert_exporter": "python",
   "pygments_lexer": "ipython3",
   "version": "3.7.6"
  }
 },
 "nbformat": 4,
 "nbformat_minor": 4
}
